{
 "cells": [
  {
   "cell_type": "markdown",
   "metadata": {
    "id": "uo0JP7a5uFp7"
   },
   "source": [
    "# **NLP Summer School: Notebook in ASR**\n",
    "\n",
    "This notebook will walk you through the implementation of an offline **end-to-end attention-based speech recognizer** on Speechbrain.\n",
    "\n",
    "For simplicity, we are not training any model, but rather using the models (AM/LM/Tokenizer) available from huggingface hub. The models are trained in an open-source dataset called [librispeech](https://www.openslr.org/12/) with 960 hours of train data.\n",
    "\n",
    "**PLEASE! CREATE YOUR ENVIRONMENT/DOWNLOAD THE REQUIRED LIBRARIES FIRST** (It takes some time: only torch+speechbrain+additional libraries require more than 3GB)\n",
    "\n",
    "You can run the next commands and follow the instructiones there:\n",
    "+ **Github Tutorial**: `!git clone https://github.com/maelfabien/NLP_Summer_School-2021_Speech_Tutorial`\n",
    "+ **Github Demo** (not reviewed here): `!git clone https://github.com/maelfabien/NLP_Summer_School-2021_Speech_Demo`\n",
    "\n",
    "In this tutorial, we will refer to the code in ```NLP_Summer_School-2021_Speech_Tutorial/ASR/LibriSpeech/{ASR,LM,Tokenizer}```. \n",
    "You could follow up a more detailed Colab Notebook about training ASR from Scratch: [Colab Notebook - Train from Scratch](https://colab.research.google.com/drive/1aFgzrUv3udM_gNJNUoLaHIm78QHtxdIz?usp=sharing)"
   ]
  },
  {
   "cell_type": "code",
   "execution_count": 3,
   "metadata": {},
   "outputs": [],
   "source": [
    "# Let's first import some libraries\n",
    "import time\n",
    "import speechbrain as sb\n",
    "from speechbrain.pretrained import EncoderDecoderASR\n",
    "\n",
    "# Getting \n",
    "from ipywebrtc import AudioRecorder, CameraStream\n",
    "import torchaudio\n",
    "from IPython.display import Audio"
   ]
  },
  {
   "cell_type": "markdown",
   "metadata": {},
   "source": [
    "## **Modules of my ASR system**\n",
    "\n",
    "An ASR system is normally composed of:\n",
    "+ **Tokenizer** --> 5000 units, in this case\n",
    "+ **Language Model** --> Transformer\n",
    "+ **Acoustic Model** --> Encoder-Decoder\n",
    "+ **Decoding technique** --> Beam Search\n",
    "\n",
    "Let's fetch the model and print some useful information about it:"
   ]
  },
  {
   "cell_type": "code",
   "execution_count": 5,
   "metadata": {},
   "outputs": [],
   "source": [
    "# Creating (fetch or use the pre-trained models) the ASR object:\n",
    "\n",
    "# Source = Source folder | hparams_file = hyperparameters file in 'Source'\n",
    "asr_model = EncoderDecoderASR.from_hparams(source=\"pretrained_models\", hparams_file='hyperparams.yaml')"
   ]
  },
  {
   "cell_type": "markdown",
   "metadata": {},
   "source": [
    "### **Tokenizer**asr_model = EncoderDecoderASR.from_hparams(source=\"pretrained_models\", hparams_file='hyperparams.yaml')\n",
    "\n",
    "\n",
    "Let's check the tokenizer and what it does"
   ]
  },
  {
   "cell_type": "code",
   "execution_count": 6,
   "metadata": {},
   "outputs": [
    {
     "name": "stdout",
     "output_type": "stream",
     "text": [
      "Encoded as pieces: ['▁THIS', '▁IS', '▁THE', '▁ME', 'X', 'IC', 'AN', '▁', 'N', 'L', 'P', '▁SUMMER', '▁SCHOOL', ',', '▁THANK', '▁YOU', '▁FOR', '▁ATTEND', 'ING', '▁IT', '!!!']\n",
      "Encoded as ids: [44, 33, 3, 48, 477, 198, 187, 78, 36, 134, 102, 1321, 761, 0, 868, 24, 25, 1465, 13, 17, 0]\n"
     ]
    }
   ],
   "source": [
    "# Modify the following phrase to check how the Tokenizer works:\n",
    "\n",
    "phrase = 'THIS IS THE MEXICAN NLP SUMMER SCHOOL, THANK YOU FOR ATTENDING IT!!!'\n",
    "tokenize_as_pieces = asr_model.tokenizer.encode(phrase, out_type=str)\n",
    "tokenize_as_ids = asr_model.tokenizer.encode_as_ids(phrase)\n",
    "\n",
    "print(f\"Encoded as pieces: {tokenize_as_pieces}\")\n",
    "print(\"Encoded as ids: {}\".format(tokenize_as_ids))"
   ]
  },
  {
   "cell_type": "code",
   "execution_count": 7,
   "metadata": {},
   "outputs": [
    {
     "name": "stdout",
     "output_type": "stream",
     "text": [
      "The number of different units in your Tokenizer is: 5000 units\n"
     ]
    }
   ],
   "source": [
    "# do you want to know the size of the Tokenizer? \n",
    "print(\"The number of different units in your Tokenizer is: {} units\".format(asr_model.tokenizer.vocab_size()))"
   ]
  },
  {
   "cell_type": "code",
   "execution_count": 8,
   "metadata": {},
   "outputs": [
    {
     "name": "stdout",
     "output_type": "stream",
     "text": [
      "Version 0: ['▁THIS', '▁I', 'S', '▁THE', '▁', 'ME', 'X', 'IC', 'AN', '▁', 'N', 'L', 'P', '▁S', 'U', 'M', 'ME', 'R', '▁SCHOOL', ',', '▁THAN', 'K', '▁', 'Y', 'O', 'U', '▁F', 'O', 'R', '▁', 'A', 'T', 'T', 'EN', 'D', 'ING', '▁I', 'T', '!!!']\n",
      "Version 1: ['▁THIS', '▁I', 'S', '▁', 'T', 'HE', '▁M', 'E', 'X', 'IC', 'A', 'N', '▁', 'N', 'L', 'P', '▁SUMMER', '▁SCHOOL', ',', '▁T', 'HA', 'N', 'K', '▁YOU', '▁FOR', '▁A', 'T', 'TEN', 'D', 'ING', '▁I', 'T', '!!!']\n",
      "Version 2: ['▁T', 'HI', 'S', '▁IS', '▁THE', '▁', 'M', 'EX', 'IC', 'AN', '▁', 'N', 'L', 'P', '▁S', 'UM', 'M', 'E', 'R', '▁', 'S', 'CH', 'O', 'OL', ',', '▁T', 'HA', 'N', 'K', '▁YOU', '▁', 'F', 'OR', '▁AT', 'TEN', 'D', 'ING', '▁', 'I', 'T', '!!!']\n"
     ]
    }
   ],
   "source": [
    "# Nevertheles, there could be several ways how this phrase could be represented:\n",
    "for n in range(3):\n",
    "    print(\"Version {}: {}\".format(n,asr_model.tokenizer.encode(phrase, out_type=str, enable_sampling=True, alpha=0.1, nbest_size=-1)))"
   ]
  },
  {
   "cell_type": "markdown",
   "metadata": {},
   "source": [
    "### **Language Model and Acoustic Model**\n",
    "\n",
    "Let's check the Language and Acoustic model and some generalities:"
   ]
  },
  {
   "cell_type": "code",
   "execution_count": 9,
   "metadata": {},
   "outputs": [
    {
     "name": "stdout",
     "output_type": "stream",
     "text": [
      "Our system has the following modules: odict_keys(['compute_features', 'pre_transformer', 'transformer', 'asr_model', 'normalize', 'lm_model', 'encoder', 'decoder'])\n"
     ]
    }
   ],
   "source": [
    "print(\"Our system has the following modules: {}\".format(asr_model.modules.keys()))"
   ]
  },
  {
   "cell_type": "code",
   "execution_count": 10,
   "metadata": {},
   "outputs": [
    {
     "name": "stdout",
     "output_type": "stream",
     "text": [
      "The Language Model has a embedding dimension of: 768\n",
      "The Language Model has 12 encoder layers\n",
      "The Language Model has 93M parameters\n"
     ]
    }
   ],
   "source": [
    "# Some key details about the LM\n",
    "\n",
    "dim_embedding = asr_model.modules.lm_model.__dict__['d_embedding']\n",
    "num_encoder_layers = asr_model.modules.lm_model.__dict__['num_encoder_layers']\n",
    "params_lm = int(sum(p.numel() for p in asr_model.modules.lm_model.parameters()))\n",
    "\n",
    "print(f\"The Language Model has a embedding dimension of: {dim_embedding}\")\n",
    "print(f\"The Language Model has {num_encoder_layers} encoder layers\")\n",
    "print(f\"The Language Model has {int(params_lm/1e6)}M parameters\")"
   ]
  },
  {
   "cell_type": "code",
   "execution_count": 12,
   "metadata": {},
   "outputs": [
    {
     "name": "stdout",
     "output_type": "stream",
     "text": [
      "The Encoder has 153M parameters\n",
      "The ASR model has 161M parameters\n",
      "The remaining 8M parameters are in the output/normalization/FrontEnd layers\n",
      "\n",
      "---Decoder = ASR model + LM model---\n",
      "The Decoder has 254M parameters\n"
     ]
    }
   ],
   "source": [
    "# Some key details about the acoustic model\n",
    "\n",
    "asr_model.modules.transformer.__dict__['_parameters']\n",
    "params_asr_model = int(sum(p.numel() for p in asr_model.modules.asr_model.parameters()))\n",
    "params_encoder = int(sum(p.numel() for p in asr_model.modules.encoder.parameters()))\n",
    "params_decoder = int(sum(p.numel() for p in asr_model.modules.decoder.parameters()))\n",
    "\n",
    "print(f\"The Encoder has {int(params_encoder/1e6)}M parameters\")\n",
    "print(f\"The ASR model has {int(params_asr_model/1e6)}M parameters\")\n",
    "print(f\"The remaining {int(params_asr_model/1e6) - int(params_encoder/1e6)}M parameters are in the output/normalization/FrontEnd layers\")\n",
    "print(f\"\\n---Decoder = ASR model + LM model---\")\n",
    "print(f\"The Decoder has {int(params_decoder/1e6)}M parameters\")"
   ]
  },
  {
   "cell_type": "markdown",
   "metadata": {},
   "source": [
    "### **Getting Ready...**\n",
    "\n",
    "Now that you know some basics about your ASR modules, let's do some inference and test the system\n",
    "\n",
    "- First, we need to either make a speech recording or use one file (only English and wav file)\n",
    "- Then, we create a 'wav' file that contains the speech recording needed during inference"
   ]
  },
  {
   "cell_type": "code",
   "execution_count": 13,
   "metadata": {},
   "outputs": [
    {
     "name": "stdout",
     "output_type": "stream",
     "text": [
      "You should be able to see a recording button just below, click on it to start, and again to stop the recording \n",
      "\n"
     ]
    },
    {
     "data": {
      "application/vnd.jupyter.widget-view+json": {
       "model_id": "c8fb184f3d4748ad9a07f619f48202ee",
       "version_major": 2,
       "version_minor": 0
      },
      "text/plain": [
       "AudioRecorder(audio=Audio(value=b'', format='webm'), stream=CameraStream(constraints={'audio': True, 'video': …"
      ]
     },
     "metadata": {},
     "output_type": "display_data"
    }
   ],
   "source": [
    "# Create and Activate the recording widget\n",
    "\n",
    "camera_on = True\n",
    "if camera_on == True:\n",
    "    print(\"You should be able to see a recording button just below, click on it to start, and again to stop the recording \\n\")\n",
    "    camera = CameraStream(constraints={'audio': True,'video':False})\n",
    "    recorder = AudioRecorder(stream=camera)\n",
    "else:\n",
    "    recorder = \"Using the example wav file from pretrained_models\\n\"\n",
    "recorder"
   ]
  },
  {
   "cell_type": "code",
   "execution_count": 14,
   "metadata": {},
   "outputs": [
    {
     "name": "stdout",
     "output_type": "stream",
     "text": [
      "torch.Size([1, 76800])\n"
     ]
    },
    {
     "data": {
      "text/html": [
       "\n",
       "                <audio  controls=\"controls\" >\n",
       "                    <source src=\"data:audio/wav;base64,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\" type=\"audio/wav\" />\n",
       "                    Your browser does not support the audio element.\n",
       "                </audio>\n",
       "              "
      ],
      "text/plain": [
       "<IPython.lib.display.Audio object>"
      ]
     },
     "execution_count": 14,
     "metadata": {},
     "output_type": "execute_result"
    }
   ],
   "source": [
    "if camera_on:\n",
    "    with open('recording.webm', 'wb') as f:\n",
    "        f.write(recorder.audio.value)\n",
    "    !ffmpeg -i recording.webm -ac 1 -ar 16000 -f wav file.wav -y -hide_banner -loglevel panic\n",
    "    audio = \"file.wav\"\n",
    "else:\n",
    "    audio = \"pretrained_models/example.wav\"\n",
    "\n",
    "sig, sr = torchaudio.load(audio)\n",
    "\n",
    "print(sig.shape)\n",
    "Audio(data=sig, rate=sr)"
   ]
  },
  {
   "cell_type": "code",
   "execution_count": 15,
   "metadata": {},
   "outputs": [
    {
     "name": "stdout",
     "output_type": "stream",
     "text": [
      "The ASR system is generating the transcript of your recording (recording length: 4.8 seconds):\n",
      "\n"
     ]
    }
   ],
   "source": [
    "# Let's transcribe the recorded file or the pre-downloaded file\n",
    "\n",
    "start_time = time.time()\n",
    "transcript = asr_model.transcribe_file(audio)\n",
    "end_time = time.time()\n",
    "transcript_time = int(end_time-start_time)\n",
    "print(f\"The ASR system is generating the transcript of your recording (recording length: {len(sig[0])/sr} seconds):\\n\")"
   ]
  },
  {
   "cell_type": "code",
   "execution_count": 16,
   "metadata": {},
   "outputs": [
    {
     "name": "stdout",
     "output_type": "stream",
     "text": [
      "Inference with a LM (30 seconds): HELLO I HAVE A REAL NICE WEEK END TO DAY WITH MY FRIENDS\n"
     ]
    }
   ],
   "source": [
    "print(f\"Inference with a LM ({transcript_time} seconds): {transcript}\")"
   ]
  },
  {
   "cell_type": "markdown",
   "metadata": {},
   "source": [
    "### **What about avoiding a Language Model?...**\n",
    "\n",
    "We can quickly perform **inference** (speech recognition) without a language model:\n",
    "\n",
    "- First, Modify the hyperparams file\n",
    "- Then, load the new model and perform inference!!"
   ]
  },
  {
   "cell_type": "code",
   "execution_count": 18,
   "metadata": {},
   "outputs": [],
   "source": [
    "# Loading the model in your machine and performing speech recognition\n",
    "\n",
    "asr_model_noLM = EncoderDecoderASR.from_hparams(source=\"pretrained_models\", hparams_file='hyperparams_noLM.yaml')\n",
    "\n",
    "start_time = time.time()\n",
    "transcript_2 = asr_model_noLM.transcribe_file(audio)\n",
    "end_time = time.time()\n",
    "transcript_2_time = int(end_time-start_time)"
   ]
  },
  {
   "cell_type": "code",
   "execution_count": 19,
   "metadata": {},
   "outputs": [
    {
     "name": "stdout",
     "output_type": "stream",
     "text": [
      "Inference without a Language Model (22 seconds): HELLO I HAVE A REAL NICE WE CAN TO DAY WITH MY FRIENDS\n",
      "Inference with a Language Model (30 seconds):    HELLO I HAVE A REAL NICE WEEK END TO DAY WITH MY FRIENDS\n"
     ]
    }
   ],
   "source": [
    "# Some nice and useful information :)\n",
    "print(f\"Inference without a Language Model ({transcript_2_time} seconds): {transcript_2}\")\n",
    "print(f\"Inference with a Language Model ({transcript_time} seconds):    {transcript}\")"
   ]
  },
  {
   "cell_type": "markdown",
   "metadata": {},
   "source": [
    "**But...**\n",
    "\n",
    "Pretty similar results, right? \n",
    "Normally, a **LM increase the performance** of the whole recognizer --> you can model longer sequences (words vs acoustic features).\n",
    "\n",
    "Below there are the main differences (only a few) between the hyperparameters files:"
   ]
  },
  {
   "cell_type": "code",
   "execution_count": 20,
   "metadata": {},
   "outputs": [
    {
     "name": "stdout",
     "output_type": "stream",
     "text": [
      "76d75\n",
      "< # Decoder - commented\n",
      "86,87c85,86\n",
      "<     # lm_weight: !ref <lm_weight>\n",
      "<     # lm_modules: !ref <lm_model>\n",
      "---\n",
      ">     lm_weight: !ref <lm_weight>\n",
      ">     lm_modules: !ref <lm_model>\n",
      "89c88\n",
      "<     # temperature_lm: 1.15\n",
      "---\n",
      ">     temperature_lm: 1.15\n",
      "136d134\n",
      "< # Modules - commented\n",
      "143c141\n",
      "<    # lm_model: !ref <lm_model>\n",
      "---\n",
      ">    lm_model: !ref <lm_model>\n",
      "149d146\n",
      "< # Pretrainer - commented\n",
      "153c150\n",
      "<       # lm: !ref <lm_model>\n",
      "---\n",
      ">       lm: !ref <lm_model>\n"
     ]
    }
   ],
   "source": [
    "!diff pretrained_models/hyperparams_noLM.yaml pretrained_models/hyperparams.yaml"
   ]
  },
  {
   "cell_type": "markdown",
   "metadata": {},
   "source": [
    "### **What about a faster system?...**\n",
    "\n",
    "Let's do speech recognition with a faster system that is including a **Language Model!!**\n"
   ]
  },
  {
   "cell_type": "code",
   "execution_count": 21,
   "metadata": {},
   "outputs": [],
   "source": [
    "# Loading the model in your machine and performing speech recognition\n",
    "\n",
    "asr_model_FastDecoding = EncoderDecoderASR.from_hparams(source=\"pretrained_models\", hparams_file='hyperparams_FastDecoding.yaml')\n",
    "\n",
    "start_time = time.time()\n",
    "transcript_3 = asr_model_FastDecoding.transcribe_file(audio)\n",
    "end_time = time.time()\n",
    "transcript_3_time = int(end_time-start_time)\n"
   ]
  },
  {
   "cell_type": "code",
   "execution_count": 24,
   "metadata": {},
   "outputs": [
    {
     "name": "stdout",
     "output_type": "stream",
     "text": [
      "Inference without a Language Model (22 seconds): HELLO I HAVE A REAL NICE WE CAN TO DAY WITH MY FRIENDS\n",
      "Inference with a Language Model (30 seconds):    HELLO I HAVE A REAL NICE WEEK END TO DAY WITH MY FRIENDS\n",
      "\n",
      "Inference with a Language Model + Faster Decoding (5 seconds):    HELLO I HAVE A REAL NICE WE CAN TO DAY WITH MY FRIENDS\n"
     ]
    }
   ],
   "source": [
    "# Some nice and useful information :)\n",
    "\n",
    "print(f\"Inference without a Language Model ({transcript_2_time} seconds): {transcript_2}\")\n",
    "print(f\"Inference with a Language Model ({transcript_time} seconds):    {transcript}\")\n",
    "print(f\"\\nInference with a Language Model + Faster Decoding ({transcript_3_time} seconds):    {transcript_3}\")"
   ]
  },
  {
   "cell_type": "markdown",
   "metadata": {},
   "source": [
    "### **Why so fast?...**\n",
    "\n",
    "Almost 6 times faster than the former model, also employing a Language Model: \n",
    "\n",
    "We achieved this by changing one **AND** only one **hyper-parameter**!! and it is..."
   ]
  },
  {
   "cell_type": "code",
   "execution_count": 23,
   "metadata": {},
   "outputs": [
    {
     "name": "stdout",
     "output_type": "stream",
     "text": [
      "41c41\n",
      "< test_beam_size: 66\n",
      "---\n",
      "> test_beam_size: 10\n"
     ]
    }
   ],
   "source": [
    "!diff pretrained_models/hyperparams.yaml pretrained_models/hyperparams_FastDecoding.yaml "
   ]
  },
  {
   "cell_type": "markdown",
   "metadata": {
    "id": "W4pPJ0k3lJZj"
   },
   "source": [
    "## **Conclusion**\n",
    "\n",
    "In this short tutorial, we tested an ASR systems composed of a Tokenizer, Language Model and Acoustic Model with Speechbrain. \n",
    "\n",
    "Additionally, we learned how to use the `EncoderDecoderASR` interface which allows you to perform speech recognition with less than 4 lines of code! These models are almost state-of-the-art! \n",
    "\n",
    "Special thanks to the [Speechbrain](https://github.com/speechbrain/speechbrain) team and [Huggingface](https://github.com/huggingface/transformers)!\n",
    "\n",
    "Here are some recipes developed in Speechbrain that you can try out easily.\n",
    "\n",
    "- [LibriSpeech recipes](https://github.com/speechbrain/speechbrain/tree/develop/recipes/LibriSpeech)\n",
    "- [CommonVoice](https://github.com/speechbrain/speechbrain/tree/develop/recipes/CommonVoice)\n",
    "- [AISHELL-1](https://github.com/speechbrain/speechbrain/tree/develop/recipes/AISHELL-1)\n",
    "- [TIMIT](https://github.com/speechbrain/speechbrain/tree/develop/recipes/TIMIT)"
   ]
  },
  {
   "cell_type": "markdown",
   "metadata": {
    "id": "P-Trg_abjUTd"
   },
   "source": [
    "## Related Tutorials\n",
    "\n",
    "These are some related tutorials if you want to further explore the ASR field:\n",
    "\n",
    "0. [ASRfromScratch](https://colab.research.google.com/drive/1aFgzrUv3udM_gNJNUoLaHIm78QHtxdIz?usp=sharing)\n",
    "1. [YAML hyperpatameter specification](https://colab.research.google.com/drive/1Pg9by4b6-8QD2iC0U7Ic3Vxq4GEwEdDz?usp=sharing)\n",
    "2. [Brain Class](https://colab.research.google.com/drive/1fdqTk4CTXNcrcSVFvaOKzRfLmj4fJfwa?usp=sharing)\n",
    "3. [Checkpointing](https://colab.research.google.com/drive/1VH7U0oP3CZsUNtChJT2ewbV_q1QX8xre?usp=sharing)\n",
    "4. [Data-io](https://colab.research.google.com/drive/1AiVJZhZKwEI4nFGANKXEe-ffZFfvXKwH?usp=sharing)\n",
    "5. [Tokenizer](https://colab.research.google.com/drive/12yE3myHSH-eUxzNM0-FLtEOhzdQoLYWe?usp=sharing)\n",
    "6. [Speech Features](https://colab.research.google.com/drive/1CI72Xyay80mmmagfLaIIeRoDgswWHT_g?usp=sharing)\n",
    "7. [Speech Augmentation](https://colab.research.google.com/drive/1JJc4tBhHNXRSDM2xbQ3Z0jdDQUw4S5lr?usp=sharing)\n",
    "8. [Environmental Corruption](https://colab.research.google.com/drive/1mAimqZndq0BwQj63VcDTr6_uCMC6i6Un?usp=sharing)\n",
    "9. [MultiGPU Training](https://colab.research.google.com/drive/13pBUacPiotw1IvyffvGZ-HrtBr9T6l15?usp=sharing)\n",
    "10. [Pretrain and Fine-tune](https://colab.research.google.com/drive/1LN7R3U3xneDgDRK2gC5MzGkLysCWxuC3?usp=sharing)\n",
    "\n",
    "\n",
    "\n",
    "\n"
   ]
  }
 ],
 "metadata": {
  "accelerator": "GPU",
  "colab": {
   "collapsed_sections": [],
   "name": "Copy of ASRfromScratch.ipynb",
   "provenance": [],
   "toc_visible": true
  },
  "kernelspec": {
   "display_name": "Python 3",
   "language": "python",
   "name": "python3"
  },
  "language_info": {
   "codemirror_mode": {
    "name": "ipython",
    "version": 3
   },
   "file_extension": ".py",
   "mimetype": "text/x-python",
   "name": "python",
   "nbconvert_exporter": "python",
   "pygments_lexer": "ipython3",
   "version": "3.8.10"
  },
  "widgets": {
   "application/vnd.jupyter.widget-state+json": {
    "03842889ca4f42ddabecf025fa71cfd1": {
     "model_module": "@jupyter-widgets/base",
     "model_name": "LayoutModel",
     "state": {
      "_model_module": "@jupyter-widgets/base",
      "_model_module_version": "1.2.0",
      "_model_name": "LayoutModel",
      "_view_count": null,
      "_view_module": "@jupyter-widgets/base",
      "_view_module_version": "1.2.0",
      "_view_name": "LayoutView",
      "align_content": null,
      "align_items": null,
      "align_self": null,
      "border": null,
      "bottom": null,
      "display": null,
      "flex": null,
      "flex_flow": null,
      "grid_area": null,
      "grid_auto_columns": null,
      "grid_auto_flow": null,
      "grid_auto_rows": null,
      "grid_column": null,
      "grid_gap": null,
      "grid_row": null,
      "grid_template_areas": null,
      "grid_template_columns": null,
      "grid_template_rows": null,
      "height": null,
      "justify_content": null,
      "justify_items": null,
      "left": null,
      "margin": null,
      "max_height": null,
      "max_width": null,
      "min_height": null,
      "min_width": null,
      "object_fit": null,
      "object_position": null,
      "order": null,
      "overflow": null,
      "overflow_x": null,
      "overflow_y": null,
      "padding": null,
      "right": null,
      "top": null,
      "visibility": null,
      "width": null
     }
    },
    "07aadeb0ed4c4fc7a9ea91b3938a2e02": {
     "model_module": "@jupyter-widgets/controls",
     "model_name": "DescriptionStyleModel",
     "state": {
      "_model_module": "@jupyter-widgets/controls",
      "_model_module_version": "1.5.0",
      "_model_name": "DescriptionStyleModel",
      "_view_count": null,
      "_view_module": "@jupyter-widgets/base",
      "_view_module_version": "1.2.0",
      "_view_name": "StyleView",
      "description_width": ""
     }
    },
    "1060fe2ec0774468a5903acb2b7f9a87": {
     "model_module": "@jupyter-widgets/base",
     "model_name": "LayoutModel",
     "state": {
      "_model_module": "@jupyter-widgets/base",
      "_model_module_version": "1.2.0",
      "_model_name": "LayoutModel",
      "_view_count": null,
      "_view_module": "@jupyter-widgets/base",
      "_view_module_version": "1.2.0",
      "_view_name": "LayoutView",
      "align_content": null,
      "align_items": null,
      "align_self": null,
      "border": null,
      "bottom": null,
      "display": null,
      "flex": null,
      "flex_flow": null,
      "grid_area": null,
      "grid_auto_columns": null,
      "grid_auto_flow": null,
      "grid_auto_rows": null,
      "grid_column": null,
      "grid_gap": null,
      "grid_row": null,
      "grid_template_areas": null,
      "grid_template_columns": null,
      "grid_template_rows": null,
      "height": null,
      "justify_content": null,
      "justify_items": null,
      "left": null,
      "margin": null,
      "max_height": null,
      "max_width": null,
      "min_height": null,
      "min_width": null,
      "object_fit": null,
      "object_position": null,
      "order": null,
      "overflow": null,
      "overflow_x": null,
      "overflow_y": null,
      "padding": null,
      "right": null,
      "top": null,
      "visibility": null,
      "width": null
     }
    },
    "1247b9b12f884d00b318569af5d1c33f": {
     "model_module": "@jupyter-widgets/base",
     "model_name": "LayoutModel",
     "state": {
      "_model_module": "@jupyter-widgets/base",
      "_model_module_version": "1.2.0",
      "_model_name": "LayoutModel",
      "_view_count": null,
      "_view_module": "@jupyter-widgets/base",
      "_view_module_version": "1.2.0",
      "_view_name": "LayoutView",
      "align_content": null,
      "align_items": null,
      "align_self": null,
      "border": null,
      "bottom": null,
      "display": null,
      "flex": null,
      "flex_flow": null,
      "grid_area": null,
      "grid_auto_columns": null,
      "grid_auto_flow": null,
      "grid_auto_rows": null,
      "grid_column": null,
      "grid_gap": null,
      "grid_row": null,
      "grid_template_areas": null,
      "grid_template_columns": null,
      "grid_template_rows": null,
      "height": null,
      "justify_content": null,
      "justify_items": null,
      "left": null,
      "margin": null,
      "max_height": null,
      "max_width": null,
      "min_height": null,
      "min_width": null,
      "object_fit": null,
      "object_position": null,
      "order": null,
      "overflow": null,
      "overflow_x": null,
      "overflow_y": null,
      "padding": null,
      "right": null,
      "top": null,
      "visibility": null,
      "width": null
     }
    },
    "16fd875c6034418d844de3aa5f18d8d9": {
     "model_module": "@jupyter-widgets/controls",
     "model_name": "HBoxModel",
     "state": {
      "_dom_classes": [],
      "_model_module": "@jupyter-widgets/controls",
      "_model_module_version": "1.5.0",
      "_model_name": "HBoxModel",
      "_view_count": null,
      "_view_module": "@jupyter-widgets/controls",
      "_view_module_version": "1.5.0",
      "_view_name": "HBoxView",
      "box_style": "",
      "children": [
       "IPY_MODEL_2569d3526a6742828af2d9360a67d312",
       "IPY_MODEL_472f38e4f2514fcca5840a19bd6b80c7",
       "IPY_MODEL_cf48aa6b98014f97a974ca398287b6a4"
      ],
      "layout": "IPY_MODEL_1247b9b12f884d00b318569af5d1c33f"
     }
    },
    "19800374b3cc44db9c82637d3981265a": {
     "model_module": "@jupyter-widgets/base",
     "model_name": "LayoutModel",
     "state": {
      "_model_module": "@jupyter-widgets/base",
      "_model_module_version": "1.2.0",
      "_model_name": "LayoutModel",
      "_view_count": null,
      "_view_module": "@jupyter-widgets/base",
      "_view_module_version": "1.2.0",
      "_view_name": "LayoutView",
      "align_content": null,
      "align_items": null,
      "align_self": null,
      "border": null,
      "bottom": null,
      "display": null,
      "flex": null,
      "flex_flow": null,
      "grid_area": null,
      "grid_auto_columns": null,
      "grid_auto_flow": null,
      "grid_auto_rows": null,
      "grid_column": null,
      "grid_gap": null,
      "grid_row": null,
      "grid_template_areas": null,
      "grid_template_columns": null,
      "grid_template_rows": null,
      "height": null,
      "justify_content": null,
      "justify_items": null,
      "left": null,
      "margin": null,
      "max_height": null,
      "max_width": null,
      "min_height": null,
      "min_width": null,
      "object_fit": null,
      "object_position": null,
      "order": null,
      "overflow": null,
      "overflow_x": null,
      "overflow_y": null,
      "padding": null,
      "right": null,
      "top": null,
      "visibility": null,
      "width": null
     }
    },
    "1b9fd09c88184811ad52d2b03c60422d": {
     "model_module": "@jupyter-widgets/base",
     "model_name": "LayoutModel",
     "state": {
      "_model_module": "@jupyter-widgets/base",
      "_model_module_version": "1.2.0",
      "_model_name": "LayoutModel",
      "_view_count": null,
      "_view_module": "@jupyter-widgets/base",
      "_view_module_version": "1.2.0",
      "_view_name": "LayoutView",
      "align_content": null,
      "align_items": null,
      "align_self": null,
      "border": null,
      "bottom": null,
      "display": null,
      "flex": null,
      "flex_flow": null,
      "grid_area": null,
      "grid_auto_columns": null,
      "grid_auto_flow": null,
      "grid_auto_rows": null,
      "grid_column": null,
      "grid_gap": null,
      "grid_row": null,
      "grid_template_areas": null,
      "grid_template_columns": null,
      "grid_template_rows": null,
      "height": null,
      "justify_content": null,
      "justify_items": null,
      "left": null,
      "margin": null,
      "max_height": null,
      "max_width": null,
      "min_height": null,
      "min_width": null,
      "object_fit": null,
      "object_position": null,
      "order": null,
      "overflow": null,
      "overflow_x": null,
      "overflow_y": null,
      "padding": null,
      "right": null,
      "top": null,
      "visibility": null,
      "width": null
     }
    },
    "1d871e41a1c346c0941ff8bf286a8fc2": {
     "model_module": "@jupyter-widgets/controls",
     "model_name": "ProgressStyleModel",
     "state": {
      "_model_module": "@jupyter-widgets/controls",
      "_model_module_version": "1.5.0",
      "_model_name": "ProgressStyleModel",
      "_view_count": null,
      "_view_module": "@jupyter-widgets/base",
      "_view_module_version": "1.2.0",
      "_view_name": "StyleView",
      "bar_color": null,
      "description_width": ""
     }
    },
    "209d0ef110b343d08759c8daeaeb78b8": {
     "model_module": "@jupyter-widgets/controls",
     "model_name": "DescriptionStyleModel",
     "state": {
      "_model_module": "@jupyter-widgets/controls",
      "_model_module_version": "1.5.0",
      "_model_name": "DescriptionStyleModel",
      "_view_count": null,
      "_view_module": "@jupyter-widgets/base",
      "_view_module_version": "1.2.0",
      "_view_name": "StyleView",
      "description_width": ""
     }
    },
    "20d770de4aa74489a9f816cf038809b4": {
     "model_module": "@jupyter-widgets/controls",
     "model_name": "FloatProgressModel",
     "state": {
      "_dom_classes": [],
      "_model_module": "@jupyter-widgets/controls",
      "_model_module_version": "1.5.0",
      "_model_name": "FloatProgressModel",
      "_view_count": null,
      "_view_module": "@jupyter-widgets/controls",
      "_view_module_version": "1.5.0",
      "_view_name": "ProgressView",
      "bar_style": "success",
      "description": "",
      "description_tooltip": null,
      "layout": "IPY_MODEL_e3fecdd0618745928f6d778aebc05afa",
      "max": 104390,
      "min": 0,
      "orientation": "horizontal",
      "style": "IPY_MODEL_d7887ea69bfe4ffa931d1a730d0e9e02",
      "value": 104390
     }
    },
    "2569d3526a6742828af2d9360a67d312": {
     "model_module": "@jupyter-widgets/controls",
     "model_name": "HTMLModel",
     "state": {
      "_dom_classes": [],
      "_model_module": "@jupyter-widgets/controls",
      "_model_module_version": "1.5.0",
      "_model_name": "HTMLModel",
      "_view_count": null,
      "_view_module": "@jupyter-widgets/controls",
      "_view_module_version": "1.5.0",
      "_view_name": "HTMLView",
      "description": "",
      "description_tooltip": null,
      "layout": "IPY_MODEL_afa3cd14810244bf92d8814bd695f3b6",
      "placeholder": "​",
      "style": "IPY_MODEL_07aadeb0ed4c4fc7a9ea91b3938a2e02",
      "value": "Downloading: 100%"
     }
    },
    "26573bd508184e5faac952104b8784b5": {
     "model_module": "@jupyter-widgets/controls",
     "model_name": "DescriptionStyleModel",
     "state": {
      "_model_module": "@jupyter-widgets/controls",
      "_model_module_version": "1.5.0",
      "_model_name": "DescriptionStyleModel",
      "_view_count": null,
      "_view_module": "@jupyter-widgets/base",
      "_view_module_version": "1.2.0",
      "_view_name": "StyleView",
      "description_width": ""
     }
    },
    "2a8a07ff265941c78d3dd4915f5c11a1": {
     "model_module": "@jupyter-widgets/controls",
     "model_name": "HTMLModel",
     "state": {
      "_dom_classes": [],
      "_model_module": "@jupyter-widgets/controls",
      "_model_module_version": "1.5.0",
      "_model_name": "HTMLModel",
      "_view_count": null,
      "_view_module": "@jupyter-widgets/controls",
      "_view_module_version": "1.5.0",
      "_view_name": "HTMLView",
      "description": "",
      "description_tooltip": null,
      "layout": "IPY_MODEL_19800374b3cc44db9c82637d3981265a",
      "placeholder": "​",
      "style": "IPY_MODEL_209d0ef110b343d08759c8daeaeb78b8",
      "value": " 480M/480M [00:08&lt;00:00, 55.6MB/s]"
     }
    },
    "2b38891bfbf148c99c8f770a46c129dd": {
     "model_module": "@jupyter-widgets/base",
     "model_name": "LayoutModel",
     "state": {
      "_model_module": "@jupyter-widgets/base",
      "_model_module_version": "1.2.0",
      "_model_name": "LayoutModel",
      "_view_count": null,
      "_view_module": "@jupyter-widgets/base",
      "_view_module_version": "1.2.0",
      "_view_name": "LayoutView",
      "align_content": null,
      "align_items": null,
      "align_self": null,
      "border": null,
      "bottom": null,
      "display": null,
      "flex": null,
      "flex_flow": null,
      "grid_area": null,
      "grid_auto_columns": null,
      "grid_auto_flow": null,
      "grid_auto_rows": null,
      "grid_column": null,
      "grid_gap": null,
      "grid_row": null,
      "grid_template_areas": null,
      "grid_template_columns": null,
      "grid_template_rows": null,
      "height": null,
      "justify_content": null,
      "justify_items": null,
      "left": null,
      "margin": null,
      "max_height": null,
      "max_width": null,
      "min_height": null,
      "min_width": null,
      "object_fit": null,
      "object_position": null,
      "order": null,
      "overflow": null,
      "overflow_x": null,
      "overflow_y": null,
      "padding": null,
      "right": null,
      "top": null,
      "visibility": null,
      "width": null
     }
    },
    "2b7c662594354cfa9327ba21f93fe51e": {
     "model_module": "@jupyter-widgets/controls",
     "model_name": "HBoxModel",
     "state": {
      "_dom_classes": [],
      "_model_module": "@jupyter-widgets/controls",
      "_model_module_version": "1.5.0",
      "_model_name": "HBoxModel",
      "_view_count": null,
      "_view_module": "@jupyter-widgets/controls",
      "_view_module_version": "1.5.0",
      "_view_name": "HBoxView",
      "box_style": "",
      "children": [
       "IPY_MODEL_3af10f6cc57a47719bfca37ee59eb84f",
       "IPY_MODEL_b176842c64324374b0d42325dbdae328",
       "IPY_MODEL_55e848a9b4264094b5e9fa9e29adf605"
      ],
      "layout": "IPY_MODEL_b5ad90b6a6924ae3993ff2a9751c917c"
     }
    },
    "2e7f8ea4c64d49478573974925975f18": {
     "model_module": "@jupyter-widgets/base",
     "model_name": "LayoutModel",
     "state": {
      "_model_module": "@jupyter-widgets/base",
      "_model_module_version": "1.2.0",
      "_model_name": "LayoutModel",
      "_view_count": null,
      "_view_module": "@jupyter-widgets/base",
      "_view_module_version": "1.2.0",
      "_view_name": "LayoutView",
      "align_content": null,
      "align_items": null,
      "align_self": null,
      "border": null,
      "bottom": null,
      "display": null,
      "flex": null,
      "flex_flow": null,
      "grid_area": null,
      "grid_auto_columns": null,
      "grid_auto_flow": null,
      "grid_auto_rows": null,
      "grid_column": null,
      "grid_gap": null,
      "grid_row": null,
      "grid_template_areas": null,
      "grid_template_columns": null,
      "grid_template_rows": null,
      "height": null,
      "justify_content": null,
      "justify_items": null,
      "left": null,
      "margin": null,
      "max_height": null,
      "max_width": null,
      "min_height": null,
      "min_width": null,
      "object_fit": null,
      "object_position": null,
      "order": null,
      "overflow": null,
      "overflow_x": null,
      "overflow_y": null,
      "padding": null,
      "right": null,
      "top": null,
      "visibility": null,
      "width": null
     }
    },
    "2e96792c1c3949ef9deb839df5c3f8e9": {
     "model_module": "@jupyter-widgets/controls",
     "model_name": "HTMLModel",
     "state": {
      "_dom_classes": [],
      "_model_module": "@jupyter-widgets/controls",
      "_model_module_version": "1.5.0",
      "_model_name": "HTMLModel",
      "_view_count": null,
      "_view_module": "@jupyter-widgets/controls",
      "_view_module_version": "1.5.0",
      "_view_name": "HTMLView",
      "description": "",
      "description_tooltip": null,
      "layout": "IPY_MODEL_418580459dc54712a947fbdf6ec8bd37",
      "placeholder": "​",
      "style": "IPY_MODEL_f207a275c2624be9b89d74b2f0fe2738",
      "value": "Downloading: 100%"
     }
    },
    "31a565eb19ab4091a965a1191a0f9e65": {
     "model_module": "@jupyter-widgets/controls",
     "model_name": "DescriptionStyleModel",
     "state": {
      "_model_module": "@jupyter-widgets/controls",
      "_model_module_version": "1.5.0",
      "_model_name": "DescriptionStyleModel",
      "_view_count": null,
      "_view_module": "@jupyter-widgets/base",
      "_view_module_version": "1.2.0",
      "_view_name": "StyleView",
      "description_width": ""
     }
    },
    "326aecdc3b3342ceb3d0bb82c1b6ca93": {
     "model_module": "@jupyter-widgets/controls",
     "model_name": "DescriptionStyleModel",
     "state": {
      "_model_module": "@jupyter-widgets/controls",
      "_model_module_version": "1.5.0",
      "_model_name": "DescriptionStyleModel",
      "_view_count": null,
      "_view_module": "@jupyter-widgets/base",
      "_view_module_version": "1.2.0",
      "_view_name": "StyleView",
      "description_width": ""
     }
    },
    "32f78deb548546a788a92d9507f6eb72": {
     "model_module": "@jupyter-widgets/controls",
     "model_name": "ProgressStyleModel",
     "state": {
      "_model_module": "@jupyter-widgets/controls",
      "_model_module_version": "1.5.0",
      "_model_name": "ProgressStyleModel",
      "_view_count": null,
      "_view_module": "@jupyter-widgets/base",
      "_view_module_version": "1.2.0",
      "_view_name": "StyleView",
      "bar_color": null,
      "description_width": ""
     }
    },
    "34181d8ec5fa45fe858b56c3eb86aed6": {
     "model_module": "@jupyter-widgets/controls",
     "model_name": "HTMLModel",
     "state": {
      "_dom_classes": [],
      "_model_module": "@jupyter-widgets/controls",
      "_model_module_version": "1.5.0",
      "_model_name": "HTMLModel",
      "_view_count": null,
      "_view_module": "@jupyter-widgets/controls",
      "_view_module_version": "1.5.0",
      "_view_name": "HTMLView",
      "description": "",
      "description_tooltip": null,
      "layout": "IPY_MODEL_3f9828cfafc14ee9935039fd43f4c6a0",
      "placeholder": "​",
      "style": "IPY_MODEL_5ccec8b8ad064037bf7f55ebb9e23907",
      "value": " 104k/104k [00:00&lt;00:00, 297kB/s]"
     }
    },
    "3af10f6cc57a47719bfca37ee59eb84f": {
     "model_module": "@jupyter-widgets/controls",
     "model_name": "HTMLModel",
     "state": {
      "_dom_classes": [],
      "_model_module": "@jupyter-widgets/controls",
      "_model_module_version": "1.5.0",
      "_model_name": "HTMLModel",
      "_view_count": null,
      "_view_module": "@jupyter-widgets/controls",
      "_view_module_version": "1.5.0",
      "_view_name": "HTMLView",
      "description": "",
      "description_tooltip": null,
      "layout": "IPY_MODEL_855230c0c2fd46fcb28a63065ce5ebd7",
      "placeholder": "​",
      "style": "IPY_MODEL_326aecdc3b3342ceb3d0bb82c1b6ca93",
      "value": "Downloading: 100%"
     }
    },
    "3f9828cfafc14ee9935039fd43f4c6a0": {
     "model_module": "@jupyter-widgets/base",
     "model_name": "LayoutModel",
     "state": {
      "_model_module": "@jupyter-widgets/base",
      "_model_module_version": "1.2.0",
      "_model_name": "LayoutModel",
      "_view_count": null,
      "_view_module": "@jupyter-widgets/base",
      "_view_module_version": "1.2.0",
      "_view_name": "LayoutView",
      "align_content": null,
      "align_items": null,
      "align_self": null,
      "border": null,
      "bottom": null,
      "display": null,
      "flex": null,
      "flex_flow": null,
      "grid_area": null,
      "grid_auto_columns": null,
      "grid_auto_flow": null,
      "grid_auto_rows": null,
      "grid_column": null,
      "grid_gap": null,
      "grid_row": null,
      "grid_template_areas": null,
      "grid_template_columns": null,
      "grid_template_rows": null,
      "height": null,
      "justify_content": null,
      "justify_items": null,
      "left": null,
      "margin": null,
      "max_height": null,
      "max_width": null,
      "min_height": null,
      "min_width": null,
      "object_fit": null,
      "object_position": null,
      "order": null,
      "overflow": null,
      "overflow_x": null,
      "overflow_y": null,
      "padding": null,
      "right": null,
      "top": null,
      "visibility": null,
      "width": null
     }
    },
    "418580459dc54712a947fbdf6ec8bd37": {
     "model_module": "@jupyter-widgets/base",
     "model_name": "LayoutModel",
     "state": {
      "_model_module": "@jupyter-widgets/base",
      "_model_module_version": "1.2.0",
      "_model_name": "LayoutModel",
      "_view_count": null,
      "_view_module": "@jupyter-widgets/base",
      "_view_module_version": "1.2.0",
      "_view_name": "LayoutView",
      "align_content": null,
      "align_items": null,
      "align_self": null,
      "border": null,
      "bottom": null,
      "display": null,
      "flex": null,
      "flex_flow": null,
      "grid_area": null,
      "grid_auto_columns": null,
      "grid_auto_flow": null,
      "grid_auto_rows": null,
      "grid_column": null,
      "grid_gap": null,
      "grid_row": null,
      "grid_template_areas": null,
      "grid_template_columns": null,
      "grid_template_rows": null,
      "height": null,
      "justify_content": null,
      "justify_items": null,
      "left": null,
      "margin": null,
      "max_height": null,
      "max_width": null,
      "min_height": null,
      "min_width": null,
      "object_fit": null,
      "object_position": null,
      "order": null,
      "overflow": null,
      "overflow_x": null,
      "overflow_y": null,
      "padding": null,
      "right": null,
      "top": null,
      "visibility": null,
      "width": null
     }
    },
    "4377bcef40f142efaa448b925d36730f": {
     "model_module": "@jupyter-widgets/base",
     "model_name": "LayoutModel",
     "state": {
      "_model_module": "@jupyter-widgets/base",
      "_model_module_version": "1.2.0",
      "_model_name": "LayoutModel",
      "_view_count": null,
      "_view_module": "@jupyter-widgets/base",
      "_view_module_version": "1.2.0",
      "_view_name": "LayoutView",
      "align_content": null,
      "align_items": null,
      "align_self": null,
      "border": null,
      "bottom": null,
      "display": null,
      "flex": null,
      "flex_flow": null,
      "grid_area": null,
      "grid_auto_columns": null,
      "grid_auto_flow": null,
      "grid_auto_rows": null,
      "grid_column": null,
      "grid_gap": null,
      "grid_row": null,
      "grid_template_areas": null,
      "grid_template_columns": null,
      "grid_template_rows": null,
      "height": null,
      "justify_content": null,
      "justify_items": null,
      "left": null,
      "margin": null,
      "max_height": null,
      "max_width": null,
      "min_height": null,
      "min_width": null,
      "object_fit": null,
      "object_position": null,
      "order": null,
      "overflow": null,
      "overflow_x": null,
      "overflow_y": null,
      "padding": null,
      "right": null,
      "top": null,
      "visibility": null,
      "width": null
     }
    },
    "472f38e4f2514fcca5840a19bd6b80c7": {
     "model_module": "@jupyter-widgets/controls",
     "model_name": "FloatProgressModel",
     "state": {
      "_dom_classes": [],
      "_model_module": "@jupyter-widgets/controls",
      "_model_module_version": "1.5.0",
      "_model_name": "FloatProgressModel",
      "_view_count": null,
      "_view_module": "@jupyter-widgets/controls",
      "_view_module_version": "1.5.0",
      "_view_name": "ProgressView",
      "bar_style": "success",
      "description": "",
      "description_tooltip": null,
      "layout": "IPY_MODEL_cb36b99b7ee24cefa46590ecc0122b72",
      "max": 212420087,
      "min": 0,
      "orientation": "horizontal",
      "style": "IPY_MODEL_69bcb272473c45caac52ac93725ab4e1",
      "value": 212420087
     }
    },
    "48901abf068b4242a014050db20b0631": {
     "model_module": "@jupyter-widgets/base",
     "model_name": "LayoutModel",
     "state": {
      "_model_module": "@jupyter-widgets/base",
      "_model_module_version": "1.2.0",
      "_model_name": "LayoutModel",
      "_view_count": null,
      "_view_module": "@jupyter-widgets/base",
      "_view_module_version": "1.2.0",
      "_view_name": "LayoutView",
      "align_content": null,
      "align_items": null,
      "align_self": null,
      "border": null,
      "bottom": null,
      "display": null,
      "flex": null,
      "flex_flow": null,
      "grid_area": null,
      "grid_auto_columns": null,
      "grid_auto_flow": null,
      "grid_auto_rows": null,
      "grid_column": null,
      "grid_gap": null,
      "grid_row": null,
      "grid_template_areas": null,
      "grid_template_columns": null,
      "grid_template_rows": null,
      "height": null,
      "justify_content": null,
      "justify_items": null,
      "left": null,
      "margin": null,
      "max_height": null,
      "max_width": null,
      "min_height": null,
      "min_width": null,
      "object_fit": null,
      "object_position": null,
      "order": null,
      "overflow": null,
      "overflow_x": null,
      "overflow_y": null,
      "padding": null,
      "right": null,
      "top": null,
      "visibility": null,
      "width": null
     }
    },
    "55e848a9b4264094b5e9fa9e29adf605": {
     "model_module": "@jupyter-widgets/controls",
     "model_name": "HTMLModel",
     "state": {
      "_dom_classes": [],
      "_model_module": "@jupyter-widgets/controls",
      "_model_module_version": "1.5.0",
      "_model_name": "HTMLModel",
      "_view_count": null,
      "_view_module": "@jupyter-widgets/controls",
      "_view_module_version": "1.5.0",
      "_view_name": "HTMLView",
      "description": "",
      "description_tooltip": null,
      "layout": "IPY_MODEL_03842889ca4f42ddabecf025fa71cfd1",
      "placeholder": "​",
      "style": "IPY_MODEL_c5cd1cec1745490aa00041eaccf3f4e3",
      "value": " 253k/253k [00:00&lt;00:00, 3.82MB/s]"
     }
    },
    "5a908cae48844f8ca14baf189d7e58bd": {
     "model_module": "@jupyter-widgets/controls",
     "model_name": "HTMLModel",
     "state": {
      "_dom_classes": [],
      "_model_module": "@jupyter-widgets/controls",
      "_model_module_version": "1.5.0",
      "_model_name": "HTMLModel",
      "_view_count": null,
      "_view_module": "@jupyter-widgets/controls",
      "_view_module_version": "1.5.0",
      "_view_name": "HTMLView",
      "description": "",
      "description_tooltip": null,
      "layout": "IPY_MODEL_1060fe2ec0774468a5903acb2b7f9a87",
      "placeholder": "​",
      "style": "IPY_MODEL_772373f931bc42869027b4db253737ad",
      "value": " 4.42k/4.42k [00:00&lt;00:00, 80.0kB/s]"
     }
    },
    "5ccec8b8ad064037bf7f55ebb9e23907": {
     "model_module": "@jupyter-widgets/controls",
     "model_name": "DescriptionStyleModel",
     "state": {
      "_model_module": "@jupyter-widgets/controls",
      "_model_module_version": "1.5.0",
      "_model_name": "DescriptionStyleModel",
      "_view_count": null,
      "_view_module": "@jupyter-widgets/base",
      "_view_module_version": "1.2.0",
      "_view_name": "StyleView",
      "description_width": ""
     }
    },
    "6248b94de0464c2b933add8e4f6b7af4": {
     "model_module": "@jupyter-widgets/controls",
     "model_name": "HBoxModel",
     "state": {
      "_dom_classes": [],
      "_model_module": "@jupyter-widgets/controls",
      "_model_module_version": "1.5.0",
      "_model_name": "HBoxModel",
      "_view_count": null,
      "_view_module": "@jupyter-widgets/controls",
      "_view_module_version": "1.5.0",
      "_view_name": "HBoxView",
      "box_style": "",
      "children": [
       "IPY_MODEL_eff25baa67674ee58e9715e78cd5b7a1",
       "IPY_MODEL_f917b17d56734fb1b8cb471e51b15328",
       "IPY_MODEL_2a8a07ff265941c78d3dd4915f5c11a1"
      ],
      "layout": "IPY_MODEL_48901abf068b4242a014050db20b0631"
     }
    },
    "676c443474a64391bb0398cfd3b7d7c5": {
     "model_module": "@jupyter-widgets/controls",
     "model_name": "DescriptionStyleModel",
     "state": {
      "_model_module": "@jupyter-widgets/controls",
      "_model_module_version": "1.5.0",
      "_model_name": "DescriptionStyleModel",
      "_view_count": null,
      "_view_module": "@jupyter-widgets/base",
      "_view_module_version": "1.2.0",
      "_view_name": "StyleView",
      "description_width": ""
     }
    },
    "69bcb272473c45caac52ac93725ab4e1": {
     "model_module": "@jupyter-widgets/controls",
     "model_name": "ProgressStyleModel",
     "state": {
      "_model_module": "@jupyter-widgets/controls",
      "_model_module_version": "1.5.0",
      "_model_name": "ProgressStyleModel",
      "_view_count": null,
      "_view_module": "@jupyter-widgets/base",
      "_view_module_version": "1.2.0",
      "_view_name": "StyleView",
      "bar_color": null,
      "description_width": ""
     }
    },
    "742aaf25ce0b4911ad1b17aced2a411f": {
     "model_module": "@jupyter-widgets/controls",
     "model_name": "FloatProgressModel",
     "state": {
      "_dom_classes": [],
      "_model_module": "@jupyter-widgets/controls",
      "_model_module_version": "1.5.0",
      "_model_name": "FloatProgressModel",
      "_view_count": null,
      "_view_module": "@jupyter-widgets/controls",
      "_view_module_version": "1.5.0",
      "_view_name": "ProgressView",
      "bar_style": "success",
      "description": "",
      "description_tooltip": null,
      "layout": "IPY_MODEL_2b38891bfbf148c99c8f770a46c129dd",
      "max": 4420,
      "min": 0,
      "orientation": "horizontal",
      "style": "IPY_MODEL_1d871e41a1c346c0941ff8bf286a8fc2",
      "value": 4420
     }
    },
    "772373f931bc42869027b4db253737ad": {
     "model_module": "@jupyter-widgets/controls",
     "model_name": "DescriptionStyleModel",
     "state": {
      "_model_module": "@jupyter-widgets/controls",
      "_model_module_version": "1.5.0",
      "_model_name": "DescriptionStyleModel",
      "_view_count": null,
      "_view_module": "@jupyter-widgets/base",
      "_view_module_version": "1.2.0",
      "_view_name": "StyleView",
      "description_width": ""
     }
    },
    "793ef14b7b004096981c55e7bf4fbdae": {
     "model_module": "@jupyter-widgets/controls",
     "model_name": "HBoxModel",
     "state": {
      "_dom_classes": [],
      "_model_module": "@jupyter-widgets/controls",
      "_model_module_version": "1.5.0",
      "_model_name": "HBoxModel",
      "_view_count": null,
      "_view_module": "@jupyter-widgets/controls",
      "_view_module_version": "1.5.0",
      "_view_name": "HBoxView",
      "box_style": "",
      "children": [
       "IPY_MODEL_ba5f07c308fa42f0963848266d7e376d",
       "IPY_MODEL_742aaf25ce0b4911ad1b17aced2a411f",
       "IPY_MODEL_5a908cae48844f8ca14baf189d7e58bd"
      ],
      "layout": "IPY_MODEL_c8edc1eae8084ade9b3e02be21ac6b36"
     }
    },
    "81573628e9ef4ec18a325a0d62b790e8": {
     "model_module": "@jupyter-widgets/base",
     "model_name": "LayoutModel",
     "state": {
      "_model_module": "@jupyter-widgets/base",
      "_model_module_version": "1.2.0",
      "_model_name": "LayoutModel",
      "_view_count": null,
      "_view_module": "@jupyter-widgets/base",
      "_view_module_version": "1.2.0",
      "_view_name": "LayoutView",
      "align_content": null,
      "align_items": null,
      "align_self": null,
      "border": null,
      "bottom": null,
      "display": null,
      "flex": null,
      "flex_flow": null,
      "grid_area": null,
      "grid_auto_columns": null,
      "grid_auto_flow": null,
      "grid_auto_rows": null,
      "grid_column": null,
      "grid_gap": null,
      "grid_row": null,
      "grid_template_areas": null,
      "grid_template_columns": null,
      "grid_template_rows": null,
      "height": null,
      "justify_content": null,
      "justify_items": null,
      "left": null,
      "margin": null,
      "max_height": null,
      "max_width": null,
      "min_height": null,
      "min_width": null,
      "object_fit": null,
      "object_position": null,
      "order": null,
      "overflow": null,
      "overflow_x": null,
      "overflow_y": null,
      "padding": null,
      "right": null,
      "top": null,
      "visibility": null,
      "width": null
     }
    },
    "855230c0c2fd46fcb28a63065ce5ebd7": {
     "model_module": "@jupyter-widgets/base",
     "model_name": "LayoutModel",
     "state": {
      "_model_module": "@jupyter-widgets/base",
      "_model_module_version": "1.2.0",
      "_model_name": "LayoutModel",
      "_view_count": null,
      "_view_module": "@jupyter-widgets/base",
      "_view_module_version": "1.2.0",
      "_view_name": "LayoutView",
      "align_content": null,
      "align_items": null,
      "align_self": null,
      "border": null,
      "bottom": null,
      "display": null,
      "flex": null,
      "flex_flow": null,
      "grid_area": null,
      "grid_auto_columns": null,
      "grid_auto_flow": null,
      "grid_auto_rows": null,
      "grid_column": null,
      "grid_gap": null,
      "grid_row": null,
      "grid_template_areas": null,
      "grid_template_columns": null,
      "grid_template_rows": null,
      "height": null,
      "justify_content": null,
      "justify_items": null,
      "left": null,
      "margin": null,
      "max_height": null,
      "max_width": null,
      "min_height": null,
      "min_width": null,
      "object_fit": null,
      "object_position": null,
      "order": null,
      "overflow": null,
      "overflow_x": null,
      "overflow_y": null,
      "padding": null,
      "right": null,
      "top": null,
      "visibility": null,
      "width": null
     }
    },
    "8d8f39950d0d416395d3c1c2afc03396": {
     "model_module": "@jupyter-widgets/base",
     "model_name": "LayoutModel",
     "state": {
      "_model_module": "@jupyter-widgets/base",
      "_model_module_version": "1.2.0",
      "_model_name": "LayoutModel",
      "_view_count": null,
      "_view_module": "@jupyter-widgets/base",
      "_view_module_version": "1.2.0",
      "_view_name": "LayoutView",
      "align_content": null,
      "align_items": null,
      "align_self": null,
      "border": null,
      "bottom": null,
      "display": null,
      "flex": null,
      "flex_flow": null,
      "grid_area": null,
      "grid_auto_columns": null,
      "grid_auto_flow": null,
      "grid_auto_rows": null,
      "grid_column": null,
      "grid_gap": null,
      "grid_row": null,
      "grid_template_areas": null,
      "grid_template_columns": null,
      "grid_template_rows": null,
      "height": null,
      "justify_content": null,
      "justify_items": null,
      "left": null,
      "margin": null,
      "max_height": null,
      "max_width": null,
      "min_height": null,
      "min_width": null,
      "object_fit": null,
      "object_position": null,
      "order": null,
      "overflow": null,
      "overflow_x": null,
      "overflow_y": null,
      "padding": null,
      "right": null,
      "top": null,
      "visibility": null,
      "width": null
     }
    },
    "9e8b3e216161422bb18c494ee3da756d": {
     "model_module": "@jupyter-widgets/controls",
     "model_name": "HBoxModel",
     "state": {
      "_dom_classes": [],
      "_model_module": "@jupyter-widgets/controls",
      "_model_module_version": "1.5.0",
      "_model_name": "HBoxModel",
      "_view_count": null,
      "_view_module": "@jupyter-widgets/controls",
      "_view_module_version": "1.5.0",
      "_view_name": "HBoxView",
      "box_style": "",
      "children": [
       "IPY_MODEL_2e96792c1c3949ef9deb839df5c3f8e9",
       "IPY_MODEL_20d770de4aa74489a9f816cf038809b4",
       "IPY_MODEL_34181d8ec5fa45fe858b56c3eb86aed6"
      ],
      "layout": "IPY_MODEL_4377bcef40f142efaa448b925d36730f"
     }
    },
    "afa3cd14810244bf92d8814bd695f3b6": {
     "model_module": "@jupyter-widgets/base",
     "model_name": "LayoutModel",
     "state": {
      "_model_module": "@jupyter-widgets/base",
      "_model_module_version": "1.2.0",
      "_model_name": "LayoutModel",
      "_view_count": null,
      "_view_module": "@jupyter-widgets/base",
      "_view_module_version": "1.2.0",
      "_view_name": "LayoutView",
      "align_content": null,
      "align_items": null,
      "align_self": null,
      "border": null,
      "bottom": null,
      "display": null,
      "flex": null,
      "flex_flow": null,
      "grid_area": null,
      "grid_auto_columns": null,
      "grid_auto_flow": null,
      "grid_auto_rows": null,
      "grid_column": null,
      "grid_gap": null,
      "grid_row": null,
      "grid_template_areas": null,
      "grid_template_columns": null,
      "grid_template_rows": null,
      "height": null,
      "justify_content": null,
      "justify_items": null,
      "left": null,
      "margin": null,
      "max_height": null,
      "max_width": null,
      "min_height": null,
      "min_width": null,
      "object_fit": null,
      "object_position": null,
      "order": null,
      "overflow": null,
      "overflow_x": null,
      "overflow_y": null,
      "padding": null,
      "right": null,
      "top": null,
      "visibility": null,
      "width": null
     }
    },
    "b176842c64324374b0d42325dbdae328": {
     "model_module": "@jupyter-widgets/controls",
     "model_name": "FloatProgressModel",
     "state": {
      "_dom_classes": [],
      "_model_module": "@jupyter-widgets/controls",
      "_model_module_version": "1.5.0",
      "_model_name": "FloatProgressModel",
      "_view_count": null,
      "_view_module": "@jupyter-widgets/controls",
      "_view_module_version": "1.5.0",
      "_view_name": "ProgressView",
      "bar_style": "success",
      "description": "",
      "description_tooltip": null,
      "layout": "IPY_MODEL_81573628e9ef4ec18a325a0d62b790e8",
      "max": 253217,
      "min": 0,
      "orientation": "horizontal",
      "style": "IPY_MODEL_cc771ea227a94bcf9ffda70f5085f90f",
      "value": 253217
     }
    },
    "b5ad90b6a6924ae3993ff2a9751c917c": {
     "model_module": "@jupyter-widgets/base",
     "model_name": "LayoutModel",
     "state": {
      "_model_module": "@jupyter-widgets/base",
      "_model_module_version": "1.2.0",
      "_model_name": "LayoutModel",
      "_view_count": null,
      "_view_module": "@jupyter-widgets/base",
      "_view_module_version": "1.2.0",
      "_view_name": "LayoutView",
      "align_content": null,
      "align_items": null,
      "align_self": null,
      "border": null,
      "bottom": null,
      "display": null,
      "flex": null,
      "flex_flow": null,
      "grid_area": null,
      "grid_auto_columns": null,
      "grid_auto_flow": null,
      "grid_auto_rows": null,
      "grid_column": null,
      "grid_gap": null,
      "grid_row": null,
      "grid_template_areas": null,
      "grid_template_columns": null,
      "grid_template_rows": null,
      "height": null,
      "justify_content": null,
      "justify_items": null,
      "left": null,
      "margin": null,
      "max_height": null,
      "max_width": null,
      "min_height": null,
      "min_width": null,
      "object_fit": null,
      "object_position": null,
      "order": null,
      "overflow": null,
      "overflow_x": null,
      "overflow_y": null,
      "padding": null,
      "right": null,
      "top": null,
      "visibility": null,
      "width": null
     }
    },
    "ba5f07c308fa42f0963848266d7e376d": {
     "model_module": "@jupyter-widgets/controls",
     "model_name": "HTMLModel",
     "state": {
      "_dom_classes": [],
      "_model_module": "@jupyter-widgets/controls",
      "_model_module_version": "1.5.0",
      "_model_name": "HTMLModel",
      "_view_count": null,
      "_view_module": "@jupyter-widgets/controls",
      "_view_module_version": "1.5.0",
      "_view_name": "HTMLView",
      "description": "",
      "description_tooltip": null,
      "layout": "IPY_MODEL_8d8f39950d0d416395d3c1c2afc03396",
      "placeholder": "​",
      "style": "IPY_MODEL_676c443474a64391bb0398cfd3b7d7c5",
      "value": "Downloading: 100%"
     }
    },
    "c5cd1cec1745490aa00041eaccf3f4e3": {
     "model_module": "@jupyter-widgets/controls",
     "model_name": "DescriptionStyleModel",
     "state": {
      "_model_module": "@jupyter-widgets/controls",
      "_model_module_version": "1.5.0",
      "_model_name": "DescriptionStyleModel",
      "_view_count": null,
      "_view_module": "@jupyter-widgets/base",
      "_view_module_version": "1.2.0",
      "_view_name": "StyleView",
      "description_width": ""
     }
    },
    "c8edc1eae8084ade9b3e02be21ac6b36": {
     "model_module": "@jupyter-widgets/base",
     "model_name": "LayoutModel",
     "state": {
      "_model_module": "@jupyter-widgets/base",
      "_model_module_version": "1.2.0",
      "_model_name": "LayoutModel",
      "_view_count": null,
      "_view_module": "@jupyter-widgets/base",
      "_view_module_version": "1.2.0",
      "_view_name": "LayoutView",
      "align_content": null,
      "align_items": null,
      "align_self": null,
      "border": null,
      "bottom": null,
      "display": null,
      "flex": null,
      "flex_flow": null,
      "grid_area": null,
      "grid_auto_columns": null,
      "grid_auto_flow": null,
      "grid_auto_rows": null,
      "grid_column": null,
      "grid_gap": null,
      "grid_row": null,
      "grid_template_areas": null,
      "grid_template_columns": null,
      "grid_template_rows": null,
      "height": null,
      "justify_content": null,
      "justify_items": null,
      "left": null,
      "margin": null,
      "max_height": null,
      "max_width": null,
      "min_height": null,
      "min_width": null,
      "object_fit": null,
      "object_position": null,
      "order": null,
      "overflow": null,
      "overflow_x": null,
      "overflow_y": null,
      "padding": null,
      "right": null,
      "top": null,
      "visibility": null,
      "width": null
     }
    },
    "cb36b99b7ee24cefa46590ecc0122b72": {
     "model_module": "@jupyter-widgets/base",
     "model_name": "LayoutModel",
     "state": {
      "_model_module": "@jupyter-widgets/base",
      "_model_module_version": "1.2.0",
      "_model_name": "LayoutModel",
      "_view_count": null,
      "_view_module": "@jupyter-widgets/base",
      "_view_module_version": "1.2.0",
      "_view_name": "LayoutView",
      "align_content": null,
      "align_items": null,
      "align_self": null,
      "border": null,
      "bottom": null,
      "display": null,
      "flex": null,
      "flex_flow": null,
      "grid_area": null,
      "grid_auto_columns": null,
      "grid_auto_flow": null,
      "grid_auto_rows": null,
      "grid_column": null,
      "grid_gap": null,
      "grid_row": null,
      "grid_template_areas": null,
      "grid_template_columns": null,
      "grid_template_rows": null,
      "height": null,
      "justify_content": null,
      "justify_items": null,
      "left": null,
      "margin": null,
      "max_height": null,
      "max_width": null,
      "min_height": null,
      "min_width": null,
      "object_fit": null,
      "object_position": null,
      "order": null,
      "overflow": null,
      "overflow_x": null,
      "overflow_y": null,
      "padding": null,
      "right": null,
      "top": null,
      "visibility": null,
      "width": null
     }
    },
    "cc771ea227a94bcf9ffda70f5085f90f": {
     "model_module": "@jupyter-widgets/controls",
     "model_name": "ProgressStyleModel",
     "state": {
      "_model_module": "@jupyter-widgets/controls",
      "_model_module_version": "1.5.0",
      "_model_name": "ProgressStyleModel",
      "_view_count": null,
      "_view_module": "@jupyter-widgets/base",
      "_view_module_version": "1.2.0",
      "_view_name": "StyleView",
      "bar_color": null,
      "description_width": ""
     }
    },
    "cf48aa6b98014f97a974ca398287b6a4": {
     "model_module": "@jupyter-widgets/controls",
     "model_name": "HTMLModel",
     "state": {
      "_dom_classes": [],
      "_model_module": "@jupyter-widgets/controls",
      "_model_module_version": "1.5.0",
      "_model_name": "HTMLModel",
      "_view_count": null,
      "_view_module": "@jupyter-widgets/controls",
      "_view_module_version": "1.5.0",
      "_view_name": "HTMLView",
      "description": "",
      "description_tooltip": null,
      "layout": "IPY_MODEL_2e7f8ea4c64d49478573974925975f18",
      "placeholder": "​",
      "style": "IPY_MODEL_26573bd508184e5faac952104b8784b5",
      "value": " 212M/212M [00:04&lt;00:00, 51.5MB/s]"
     }
    },
    "d7887ea69bfe4ffa931d1a730d0e9e02": {
     "model_module": "@jupyter-widgets/controls",
     "model_name": "ProgressStyleModel",
     "state": {
      "_model_module": "@jupyter-widgets/controls",
      "_model_module_version": "1.5.0",
      "_model_name": "ProgressStyleModel",
      "_view_count": null,
      "_view_module": "@jupyter-widgets/base",
      "_view_module_version": "1.2.0",
      "_view_name": "StyleView",
      "bar_color": null,
      "description_width": ""
     }
    },
    "e239d2cbb12346ffb706cacab4dca38a": {
     "model_module": "@jupyter-widgets/base",
     "model_name": "LayoutModel",
     "state": {
      "_model_module": "@jupyter-widgets/base",
      "_model_module_version": "1.2.0",
      "_model_name": "LayoutModel",
      "_view_count": null,
      "_view_module": "@jupyter-widgets/base",
      "_view_module_version": "1.2.0",
      "_view_name": "LayoutView",
      "align_content": null,
      "align_items": null,
      "align_self": null,
      "border": null,
      "bottom": null,
      "display": null,
      "flex": null,
      "flex_flow": null,
      "grid_area": null,
      "grid_auto_columns": null,
      "grid_auto_flow": null,
      "grid_auto_rows": null,
      "grid_column": null,
      "grid_gap": null,
      "grid_row": null,
      "grid_template_areas": null,
      "grid_template_columns": null,
      "grid_template_rows": null,
      "height": null,
      "justify_content": null,
      "justify_items": null,
      "left": null,
      "margin": null,
      "max_height": null,
      "max_width": null,
      "min_height": null,
      "min_width": null,
      "object_fit": null,
      "object_position": null,
      "order": null,
      "overflow": null,
      "overflow_x": null,
      "overflow_y": null,
      "padding": null,
      "right": null,
      "top": null,
      "visibility": null,
      "width": null
     }
    },
    "e3fecdd0618745928f6d778aebc05afa": {
     "model_module": "@jupyter-widgets/base",
     "model_name": "LayoutModel",
     "state": {
      "_model_module": "@jupyter-widgets/base",
      "_model_module_version": "1.2.0",
      "_model_name": "LayoutModel",
      "_view_count": null,
      "_view_module": "@jupyter-widgets/base",
      "_view_module_version": "1.2.0",
      "_view_name": "LayoutView",
      "align_content": null,
      "align_items": null,
      "align_self": null,
      "border": null,
      "bottom": null,
      "display": null,
      "flex": null,
      "flex_flow": null,
      "grid_area": null,
      "grid_auto_columns": null,
      "grid_auto_flow": null,
      "grid_auto_rows": null,
      "grid_column": null,
      "grid_gap": null,
      "grid_row": null,
      "grid_template_areas": null,
      "grid_template_columns": null,
      "grid_template_rows": null,
      "height": null,
      "justify_content": null,
      "justify_items": null,
      "left": null,
      "margin": null,
      "max_height": null,
      "max_width": null,
      "min_height": null,
      "min_width": null,
      "object_fit": null,
      "object_position": null,
      "order": null,
      "overflow": null,
      "overflow_x": null,
      "overflow_y": null,
      "padding": null,
      "right": null,
      "top": null,
      "visibility": null,
      "width": null
     }
    },
    "eff25baa67674ee58e9715e78cd5b7a1": {
     "model_module": "@jupyter-widgets/controls",
     "model_name": "HTMLModel",
     "state": {
      "_dom_classes": [],
      "_model_module": "@jupyter-widgets/controls",
      "_model_module_version": "1.5.0",
      "_model_name": "HTMLModel",
      "_view_count": null,
      "_view_module": "@jupyter-widgets/controls",
      "_view_module_version": "1.5.0",
      "_view_name": "HTMLView",
      "description": "",
      "description_tooltip": null,
      "layout": "IPY_MODEL_1b9fd09c88184811ad52d2b03c60422d",
      "placeholder": "​",
      "style": "IPY_MODEL_31a565eb19ab4091a965a1191a0f9e65",
      "value": "Downloading: 100%"
     }
    },
    "f207a275c2624be9b89d74b2f0fe2738": {
     "model_module": "@jupyter-widgets/controls",
     "model_name": "DescriptionStyleModel",
     "state": {
      "_model_module": "@jupyter-widgets/controls",
      "_model_module_version": "1.5.0",
      "_model_name": "DescriptionStyleModel",
      "_view_count": null,
      "_view_module": "@jupyter-widgets/base",
      "_view_module_version": "1.2.0",
      "_view_name": "StyleView",
      "description_width": ""
     }
    },
    "f917b17d56734fb1b8cb471e51b15328": {
     "model_module": "@jupyter-widgets/controls",
     "model_name": "FloatProgressModel",
     "state": {
      "_dom_classes": [],
      "_model_module": "@jupyter-widgets/controls",
      "_model_module_version": "1.5.0",
      "_model_name": "FloatProgressModel",
      "_view_count": null,
      "_view_module": "@jupyter-widgets/controls",
      "_view_module_version": "1.5.0",
      "_view_name": "ProgressView",
      "bar_style": "success",
      "description": "",
      "description_tooltip": null,
      "layout": "IPY_MODEL_e239d2cbb12346ffb706cacab4dca38a",
      "max": 479555971,
      "min": 0,
      "orientation": "horizontal",
      "style": "IPY_MODEL_32f78deb548546a788a92d9507f6eb72",
      "value": 479555971
     }
    }
   }
  }
 },
 "nbformat": 4,
 "nbformat_minor": 4
}
