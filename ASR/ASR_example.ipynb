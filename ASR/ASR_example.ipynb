{
 "cells": [
  {
   "cell_type": "markdown",
   "metadata": {
    "id": "uo0JP7a5uFp7"
   },
   "source": [
    "# **NLP Summer School: Notebook in ASR**\n",
    "\n",
    "This notebook will walk you through the implementation of an offline **end-to-end attention-based speech recognizer** on Speechbrain.\n",
    "\n",
    "For simplicity, we are not training any model, but rather using the models (AM/LM/Tokenizer) available from huggingface hub. The models are trained in an open-source dataset called [librispeech](https://www.openslr.org/12/) with 960 hours of train data.\n",
    "\n",
    "In this tutorial, we will refer to the code in ```NLP_Summer_School-2021_Speech_Tutorial/ASR/LibriSpeech/{ASR,LM,Tokenizer}```. \n",
    "You could follow up a more detailed Colab Notebook about training ASR from Scratch: [Colab Notebook - Train from Scratch](https://colab.research.google.com/drive/1aFgzrUv3udM_gNJNUoLaHIm78QHtxdIz?usp=sharing)"
   ]
  },
  {
   "cell_type": "code",
<<<<<<< HEAD
   "execution_count": 1,
=======
   "execution_count": 12,
>>>>>>> 0539a94595b58c00ad375a50686a3abce359e6ab
   "metadata": {},
   "outputs": [],
   "source": [
    "# Let's first import some libraries\n",
    "import time\n",
    "import speechbrain as sb\n",
    "from speechbrain.pretrained import EncoderDecoderASR\n",
    "\n",
    "# Getting \n",
    "from ipywebrtc import AudioRecorder, CameraStream\n",
    "import torchaudio\n",
    "from IPython.display import Audio"
   ]
  },
  {
   "cell_type": "markdown",
   "metadata": {},
   "source": [
    "## **Modules of my ASR system**\n",
    "\n",
    "An ASR system is normally composed of:\n",
    "+ Tokenizer (5000 units, in this case)\n",
    "+ Language Model (Transformer) \n",
    "+ Acoustic Model (Encoder-Decoer)\n",
    "+ Decoding technique --> Beam Search\n",
    "\n",
    "Let's fetch the model and print some useful information about it:"
   ]
  },
  {
   "cell_type": "code",
   "execution_count": 2,
   "metadata": {},
   "outputs": [],
   "source": [
    "# Creating (fetch or use the pre-trained models) the ASR object:\n",
    "\n",
    "# Source = Source folder | hparams_file = hyperparameters file in 'Source'\n",
    "asr_model = EncoderDecoderASR.from_hparams(source=\"pretrained_models\", hparams_file='hyperparams.yaml')"
   ]
  },
  {
   "cell_type": "markdown",
   "metadata": {},
   "source": [
    "### **Tokenizer**asr_model = EncoderDecoderASR.from_hparams(source=\"pretrained_models\", hparams_file='hyperparams.yaml')\n",
    "\n",
    "\n",
    "Let's check the tokenizer and what it does"
   ]
  },
  {
   "cell_type": "code",
<<<<<<< HEAD
   "execution_count": 3,
=======
   "execution_count": 4,
>>>>>>> 0539a94595b58c00ad375a50686a3abce359e6ab
   "metadata": {},
   "outputs": [
    {
     "name": "stdout",
     "output_type": "stream",
     "text": [
      "Encoded as pieces: ['▁THIS', '▁IS', '▁THE', '▁ME', 'X', 'IC', 'AN', '▁', 'N', 'L', 'P', '▁SUMMER', '▁SCHOOL', ',', '▁THANK', '▁YOU', '▁FOR', '▁ATTEND', 'ING', '▁IT', '!!!']\n",
      "Encoded as ids: [44, 33, 3, 48, 477, 198, 187, 78, 36, 134, 102, 1321, 761, 0, 868, 24, 25, 1465, 13, 17, 0]\n"
     ]
    }
   ],
   "source": [
    "# Modify the following phrase to check how the Tokenizer works:\n",
    "\n",
    "phrase = 'THIS IS THE MEXICAN NLP SUMMER SCHOOL, THANK YOU FOR ATTENDING IT!!!'\n",
    "tokenize_as_pieces = asr_model.tokenizer.encode(phrase, out_type=str)\n",
    "tokenize_as_ids = asr_model.tokenizer.encode_as_ids(phrase)\n",
    "\n",
    "print(f\"Encoded as pieces: {tokenize_as_pieces}\")\n",
    "print(\"Encoded as ids: {}\".format(tokenize_as_ids))"
   ]
  },
  {
   "cell_type": "code",
<<<<<<< HEAD
   "execution_count": 4,
=======
   "execution_count": 5,
>>>>>>> 0539a94595b58c00ad375a50686a3abce359e6ab
   "metadata": {},
   "outputs": [
    {
     "name": "stdout",
     "output_type": "stream",
     "text": [
      "The number of different units in your Tokenizer is: 5000 units\n"
     ]
    }
   ],
   "source": [
    "# do you want to know the size of the Tokenizer? \n",
    "print(\"The number of different units in your Tokenizer is: {} units\".format(asr_model.tokenizer.vocab_size()))"
   ]
  },
  {
   "cell_type": "code",
<<<<<<< HEAD
   "execution_count": 5,
=======
   "execution_count": 6,
>>>>>>> 0539a94595b58c00ad375a50686a3abce359e6ab
   "metadata": {},
   "outputs": [
    {
     "name": "stdout",
     "output_type": "stream",
     "text": [
<<<<<<< HEAD
      "Version 0: ['▁', 'TH', 'I', 'S', '▁', 'IS', '▁T', 'HE', '▁', 'ME', 'X', 'IC', 'A', 'N', '▁', 'N', 'L', 'P', '▁SUMMER', '▁SC', 'H', 'O', 'OL', ',', '▁THAN', 'K', '▁YOU', '▁FOR', '▁A', 'T', 'T', 'E', 'N', 'D', 'ING', '▁I', 'T', '!!!']\n",
      "Version 1: ['▁THIS', '▁', 'IS', '▁T', 'HE', '▁M', 'E', 'X', 'I', 'CAN', '▁', 'N', 'L', 'P', '▁S', 'UM', 'M', 'ER', '▁SCHOOL', ',', '▁THANK', '▁YOU', '▁', 'FOR', '▁A', 'T', 'TEN', 'D', 'I', 'NG', '▁IT', '!!!']\n",
      "Version 2: ['▁', 'T', 'HI', 'S', '▁IS', '▁THE', '▁M', 'EX', 'IC', 'AN', '▁', 'N', 'L', 'P', '▁SUM', 'ME', 'R', '▁S', 'CH', 'O', 'OL', ',', '▁', 'T', 'H', 'AN', 'K', '▁YO', 'U', '▁FOR', '▁', 'A', 'TTE', 'N', 'D', 'ING', '▁IT', '!!!']\n"
=======
      "Version 0: ['▁THIS', '▁IS', '▁T', 'HE', '▁', 'N', 'L', 'P', '▁S', 'UM', 'M', 'E', 'R', '▁SCHOOL', ',', '▁THAN', 'K', '▁YOU', '▁FOR', '▁', 'AT', 'TE', 'N', 'D', 'IN', 'G', '▁I', 'T', '!!!']\n",
      "Version 1: ['▁', 'T', 'HI', 'S', '▁', 'I', 'S', '▁', 'THE', '▁', 'N', 'L', 'P', '▁SUMMER', '▁', 'S', 'CH', 'OO', 'L', ',', '▁T', 'H', 'AN', 'K', '▁YOU', '▁FOR', '▁', 'AT', 'T', 'EN', 'D', 'ING', '▁', 'IT', '!!!']\n",
      "Version 2: ['▁THIS', '▁IS', '▁TH', 'E', '▁', 'N', 'L', 'P', '▁SUM', 'M', 'ER', '▁S', 'C', 'H', 'OO', 'L', ',', '▁', 'T', 'H', 'AN', 'K', '▁YOU', '▁', 'F', 'O', 'R', '▁AT', 'T', 'EN', 'D', 'ING', '▁IT', '!!!']\n"
>>>>>>> 0539a94595b58c00ad375a50686a3abce359e6ab
     ]
    }
   ],
   "source": [
    "# Nevertheles, there could be several ways how this phrase could be represented:\n",
    "for n in range(3):\n",
    "    print(\"Version {}: {}\".format(n,asr_model.tokenizer.encode(phrase, out_type=str, enable_sampling=True, alpha=0.1, nbest_size=-1)))"
   ]
  },
  {
   "cell_type": "markdown",
   "metadata": {},
   "source": [
    "### **Language Model and Acoustic Model**\n",
    "\n",
    "Let's check the Language and Acoustic model and some generalities:"
   ]
  },
  {
   "cell_type": "code",
<<<<<<< HEAD
   "execution_count": 6,
=======
   "execution_count": 7,
>>>>>>> 0539a94595b58c00ad375a50686a3abce359e6ab
   "metadata": {},
   "outputs": [
    {
     "name": "stdout",
     "output_type": "stream",
     "text": [
      "Our system has the following modules: odict_keys(['compute_features', 'pre_transformer', 'transformer', 'asr_model', 'normalize', 'lm_model', 'encoder', 'decoder'])\n"
     ]
    }
   ],
   "source": [
    "print(\"Our system has the following modules: {}\".format(asr_model.modules.keys()))"
   ]
  },
  {
   "cell_type": "code",
<<<<<<< HEAD
   "execution_count": 7,
=======
   "execution_count": 8,
>>>>>>> 0539a94595b58c00ad375a50686a3abce359e6ab
   "metadata": {},
   "outputs": [
    {
     "name": "stdout",
     "output_type": "stream",
     "text": [
      "The Language Model has a embedding dimension of: 768\n",
      "The Language Model has 12 encoder layers\n",
      "The Language Model has 93M parameters\n"
     ]
    }
   ],
   "source": [
    "# Some key details about the LM\n",
    "\n",
    "dim_embedding = asr_model.modules.lm_model.__dict__['d_embedding']\n",
    "num_encoder_layers = asr_model.modules.lm_model.__dict__['num_encoder_layers']\n",
    "params_lm = int(sum(p.numel() for p in asr_model.modules.lm_model.parameters()))\n",
    "\n",
    "print(f\"The Language Model has a embedding dimension of: {dim_embedding}\")\n",
    "print(f\"The Language Model has {num_encoder_layers} encoder layers\")\n",
    "print(f\"The Language Model has {int(params_lm/1e6)}M parameters\")"
   ]
  },
  {
   "cell_type": "code",
<<<<<<< HEAD
   "execution_count": 8,
=======
   "execution_count": 9,
>>>>>>> 0539a94595b58c00ad375a50686a3abce359e6ab
   "metadata": {},
   "outputs": [
    {
     "name": "stdout",
     "output_type": "stream",
     "text": [
      "The Encoder has 153M parameters\n",
      "The ASR model has 161M parameters\n",
      "The remaining 8M parameters are in the output/normalization/FrontEnd layers\n",
      "\n",
      "---Decoder = ASR model + LM model---\n",
      "The Decoder has 254M parameters\n"
     ]
    }
   ],
   "source": [
    "# Some key details about the acoustic model\n",
    "\n",
    "asr_model.modules.transformer.__dict__['_parameters']\n",
    "params_asr_model = int(sum(p.numel() for p in asr_model.modules.asr_model.parameters()))\n",
    "params_encoder = int(sum(p.numel() for p in asr_model.modules.encoder.parameters()))\n",
    "params_decoder = int(sum(p.numel() for p in asr_model.modules.decoder.parameters()))\n",
    "\n",
    "print(f\"The Encoder has {int(params_encoder/1e6)}M parameters\")\n",
    "print(f\"The ASR model has {int(params_asr_model/1e6)}M parameters\")\n",
    "print(f\"The remaining {int(params_asr_model/1e6) - int(params_encoder/1e6)}M parameters are in the output/normalization/FrontEnd layers\")\n",
    "print(f\"\\n---Decoder = ASR model + LM model---\")\n",
    "print(f\"The Decoder has {int(params_decoder/1e6)}M parameters\")"
   ]
  },
  {
   "cell_type": "markdown",
   "metadata": {},
   "source": [
    "### **Getting Ready...**\n",
    "\n",
    "Now that you know some basics about your ASR modules, let's do some inference and test the system\n",
    "\n",
    "- First, we need to either make a speech recording or use one file (only English and wav file)\n",
    "- Then, we create a 'wav' file that contains the speech recording needed during inference"
   ]
  },
  {
   "cell_type": "code",
<<<<<<< HEAD
   "execution_count": 12,
=======
   "execution_count": 15,
>>>>>>> 0539a94595b58c00ad375a50686a3abce359e6ab
   "metadata": {},
   "outputs": [
    {
     "name": "stdout",
     "output_type": "stream",
     "text": [
      "You should be able to see a recording button just below, click on it to start, and again to stop the recording \n",
      "\n"
     ]
    },
    {
     "data": {
      "application/vnd.jupyter.widget-view+json": {
<<<<<<< HEAD
       "model_id": "f6b9a7fd8fe74b688e38ac64893acec2",
=======
       "model_id": "b81a8d66e2ad42cf9520ca5acc56f921",
>>>>>>> 0539a94595b58c00ad375a50686a3abce359e6ab
       "version_major": 2,
       "version_minor": 0
      },
      "text/plain": [
       "AudioRecorder(audio=Audio(value=b'', format='webm'), stream=CameraStream(constraints={'audio': True, 'video': …"
      ]
     },
     "metadata": {},
     "output_type": "display_data"
    }
   ],
   "source": [
    "# Create and Activate the recording widget\n",
    "\n",
    "camera_on = True\n",
    "if camera_on == True:\n",
    "    print(\"You should be able to see a recording button just below, click on it to start, and again to stop the recording \\n\")\n",
    "    camera = CameraStream(constraints={'audio': True,'video':False})\n",
    "    recorder = AudioRecorder(stream=camera)\n",
    "else:\n",
    "    recorder = \"Using the example wav file from pretrained_models\\n\"\n",
    "recorder"
   ]
  },
  {
   "cell_type": "code",
   "execution_count": 13,
   "metadata": {},
   "outputs": [
    {
     "name": "stdout",
     "output_type": "stream",
     "text": [
      "torch.Size([1, 80640])\n"
     ]
    },
    {
     "data": {
      "text/html": [
       "\n",
       "                <audio  controls=\"controls\" >\n",
       "                    <source src=\"data:audio/wav;base64,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\" type=\"audio/wav\" />\n",
       "                    Your browser does not support the audio element.\n",
       "                </audio>\n",
       "              "
      ],
      "text/plain": [
       "<IPython.lib.display.Audio object>"
      ]
     },
     "execution_count": 13,
     "metadata": {},
     "output_type": "execute_result"
    }
   ],
   "source": [
    "if camera_on:\n",
    "    with open('recording.webm', 'wb') as f:\n",
    "        f.write(recorder.audio.value)\n",
    "    !ffmpeg -i recording.webm -ac 1 -ar 16000 -f wav file.wav -y -hide_banner -loglevel panic\n",
    "    audio = \"file.wav\"\n",
    "else:\n",
    "    audio = \"pretrained_models/example.wav\"\n",
    "\n",
    "sig, sr = torchaudio.load(audio)\n",
    "\n",
    "print(sig.shape)\n",
    "Audio(data=sig, rate=sr)"
   ]
  },
  {
   "cell_type": "code",
   "execution_count": 14,
   "metadata": {},
   "outputs": [
    {
     "name": "stdout",
     "output_type": "stream",
     "text": [
      "The ASR system is generating the transcript of your recording (length: 5.04 seconds):\n",
      "\n"
     ]
    }
   ],
   "source": [
    "# Let's transcribe the recorded file or the pre-downloaded file\n",
    "\n",
    "start_time = time.time()\n",
    "transcript = asr_model.transcribe_file(audio)\n",
    "end_time = time.time()\n",
    "transcript_time = int(end_time-start_time)\n",
    "print(f\"The ASR system is generating the transcript of your recording (recording length: {len(sig[0])/sr} seconds):\\n\")"
   ]
  },
  {
   "cell_type": "code",
   "execution_count": 21,
   "metadata": {},
   "outputs": [
    {
     "name": "stdout",
     "output_type": "stream",
     "text": [
      "Inference with a LM (38 seconds): HELLO IT WILL BE NICE IF YOU CAN EXPLAIN THIS ESSAY TO ME\n"
     ]
    }
   ],
   "source": [
    "print(f\"Inference with a LM ({transcript_time} seconds): {transcript}\")"
   ]
  },
  {
   "cell_type": "markdown",
   "metadata": {},
   "source": [
    "### **What about avoiding a Language Model?...**\n",
    "\n",
    "We can quickly perform inference (speech recognition) without a language model:\n",
    "\n",
    "- First, Modify the hyperparams file\n",
    "- Then, load the new model and perform inference!!"
   ]
  },
  {
   "cell_type": "code",
   "execution_count": 23,
   "metadata": {},
   "outputs": [],
   "source": [
    "# Loading the model in your machine and performing speech recognition\n",
    "\n",
    "asr_model_noLM = EncoderDecoderASR.from_hparams(source=\"pretrained_models\", hparams_file='hyperparams_noLM.yaml')\n",
    "\n",
    "start_time = time.time()\n",
    "transcript_2 = asr_model_noLM.transcribe_file(audio)\n",
    "end_time = time.time()\n",
    "transcript_2_time = int(end_time-start_time)"
   ]
  },
  {
   "cell_type": "code",
   "execution_count": 29,
   "metadata": {},
   "outputs": [
    {
     "name": "stdout",
     "output_type": "stream",
     "text": [
      "Inference without a Language Model (25 seconds): HELLO IT WILL BE NICE IF YOU CAN EXPLAIN THIS ES TO ME\n",
      "Inference with a Language Model (38 seconds):    HELLO IT WILL BE NICE IF YOU CAN EXPLAIN THIS ESSAY TO ME\n"
     ]
    }
   ],
   "source": [
    "# Some nice and useful information :)\n",
    "print(f\"Inference without a Language Model ({transcript_2_time} seconds): {transcript_2}\")\n",
    "print(f\"Inference with a Language Model ({transcript_time} seconds):    {transcript}\")"
   ]
  },
  {
   "cell_type": "markdown",
   "metadata": {},
   "source": [
    "**But...**\n",
    "\n",
    "Pretty similar results, right? \n",
    "Normally, a **LM increase the performance** of the whole recognizer --> you can model longer sequences (words vs acoustic features).\n",
    "\n",
    "Below there are the main differences (only a few) between the hyperparameters files:"
   ]
  },
  {
   "cell_type": "code",
   "execution_count": 30,
   "metadata": {},
   "outputs": [
    {
     "name": "stdout",
     "output_type": "stream",
     "text": [
      "76d75\n",
      "< # Decoder - commented\n",
      "86,87c85,86\n",
      "<     # lm_weight: !ref <lm_weight>\n",
      "<     # lm_modules: !ref <lm_model>\n",
      "---\n",
      ">     lm_weight: !ref <lm_weight>\n",
      ">     lm_modules: !ref <lm_model>\n",
      "89c88\n",
      "<     # temperature_lm: 1.15\n",
      "---\n",
      ">     temperature_lm: 1.15\n",
      "136d134\n",
      "< # Modules - commented\n",
      "143c141\n",
      "<    # lm_model: !ref <lm_model>\n",
      "---\n",
      ">    lm_model: !ref <lm_model>\n",
      "149d146\n",
      "< # Pretrainer - commented\n",
      "153c150\n",
      "<       # lm: !ref <lm_model>\n",
      "---\n",
      ">       lm: !ref <lm_model>\n"
     ]
    }
   ],
   "source": [
    "!diff pretrained_models/hyperparams_noLM.yaml pretrained_models/hyperparams.yaml"
   ]
  },
  {
   "cell_type": "markdown",
   "metadata": {},
   "source": [
    "### **What about faster system?...**\n",
    "\n",
    "Let's do speech recognition with a faster system (+ Language Model)\n"
   ]
  },
  {
   "cell_type": "code",
   "execution_count": 31,
   "metadata": {},
   "outputs": [],
   "source": [
    "# Loading the model in your machine and performing speech recognition\n",
    "\n",
    "asr_model_FastDecoding = EncoderDecoderASR.from_hparams(source=\"pretrained_models\", hparams_file='hyperparams_FastDecoding.yaml')\n",
    "\n",
    "start_time = time.time()\n",
    "transcript_3 = asr_model_FastDecoding.transcribe_file(audio)\n",
    "end_time = time.time()\n",
    "transcript_3_time = int(end_time-start_time)\n"
   ]
  },
  {
   "cell_type": "code",
   "execution_count": 32,
   "metadata": {},
   "outputs": [
    {
     "name": "stdout",
     "output_type": "stream",
     "text": [
      "Inference without a Language Model (25 seconds): HELLO IT WILL BE NICE IF YOU CAN EXPLAIN THIS ES TO ME\n",
      "Inference with a Language Model (38 seconds):    HELLO IT WILL BE NICE IF YOU CAN EXPLAIN THIS ESSAY TO ME\n",
      "\n",
      "Inference with a Language Model a Faster Decoding (6 seconds):    HELLO IT WILL BE NICE IF YOU CAN EXPLAIN THIS ESSAY TO ME\n"
     ]
    }
   ],
   "source": [
    "# Some nice and useful information :)\n",
    "print(f\"Inference without a Language Model ({transcript_2_time} seconds): {transcript_2}\")\n",
    "print(f\"Inference with a Language Model ({transcript_time} seconds):    {transcript}\")\n",
    "print(f\"\\nInference with a Language Model a Faster Decoding ({transcript_3_time} seconds):    {transcript_3}\")"
   ]
  },
  {
   "cell_type": "markdown",
   "metadata": {},
   "source": [
    "### **Why so fast?...**\n",
    "\n",
    "Almost 6 times faster than the former model with employing Language Model: \n",
    "\n",
    "We achieved this by changing one and only one hyper-parameter!! and it is..."
   ]
  },
  {
   "cell_type": "code",
   "execution_count": 33,
   "metadata": {},
   "outputs": [
    {
     "name": "stdout",
     "output_type": "stream",
     "text": [
      "41c41\n",
      "< test_beam_size: 66\n",
      "---\n",
      "> test_beam_size: 10\n"
     ]
    }
   ],
   "source": [
    "!diff pretrained_models/hyperparams.yaml pretrained_models/hyperparams_FastDecoding.yaml "
   ]
  },
  {
   "cell_type": "markdown",
   "metadata": {
    "id": "W4pPJ0k3lJZj"
   },
   "source": [
    "## **Conclusion**\n",
    "\n",
    "In this short tutorial, we tested our ASR systems composed of a Tokenizer, Language Model and Acoustic Model with Speechbrain. Additionally, we learned how to use the `EncoderDecoderASR` interface which allows you to perform speech recognition with less than 4 lines of code! These models are almost state-of-the-art! \n",
    "\n",
    "Special thanks to the [Speechbrain](https://github.com/speechbrain/speechbrain) team and [Huggingface](https://github.com/huggingface/transformers)!\n",
    "\n",
    "Here are some recipes developed in Speechbrain:\n",
    "\n",
    "- [LibriSpeech recipes](https://github.com/speechbrain/speechbrain/tree/develop/recipes/LibriSpeech)\n",
    "- [CommonVoice](https://github.com/speechbrain/speechbrain/tree/develop/recipes/CommonVoice)\n",
    "- [AISHELL-1](https://github.com/speechbrain/speechbrain/tree/develop/recipes/AISHELL-1)\n",
    "- [TIMIT](https://github.com/speechbrain/speechbrain/tree/develop/recipes/TIMIT)"
   ]
  },
  {
   "cell_type": "markdown",
   "metadata": {
    "id": "P-Trg_abjUTd"
   },
   "source": [
    "## Related Tutorials\n",
    "\n",
    "These are some related tutorials if you want to further explore the ASR field:\n",
    "\n",
    "0. [ASRfromScratch](https://colab.research.google.com/drive/1aFgzrUv3udM_gNJNUoLaHIm78QHtxdIz?usp=sharing)\n",
    "1. [YAML hyperpatameter specification](https://colab.research.google.com/drive/1Pg9by4b6-8QD2iC0U7Ic3Vxq4GEwEdDz?usp=sharing)\n",
    "2. [Brain Class](https://colab.research.google.com/drive/1fdqTk4CTXNcrcSVFvaOKzRfLmj4fJfwa?usp=sharing)\n",
    "3. [Checkpointing](https://colab.research.google.com/drive/1VH7U0oP3CZsUNtChJT2ewbV_q1QX8xre?usp=sharing)\n",
    "4. [Data-io](https://colab.research.google.com/drive/1AiVJZhZKwEI4nFGANKXEe-ffZFfvXKwH?usp=sharing)\n",
    "5. [Tokenizer](https://colab.research.google.com/drive/12yE3myHSH-eUxzNM0-FLtEOhzdQoLYWe?usp=sharing)\n",
    "6. [Speech Features](https://colab.research.google.com/drive/1CI72Xyay80mmmagfLaIIeRoDgswWHT_g?usp=sharing)\n",
    "7. [Speech Augmentation](https://colab.research.google.com/drive/1JJc4tBhHNXRSDM2xbQ3Z0jdDQUw4S5lr?usp=sharing)\n",
    "8. [Environmental Corruption](https://colab.research.google.com/drive/1mAimqZndq0BwQj63VcDTr6_uCMC6i6Un?usp=sharing)\n",
    "9. [MultiGPU Training](https://colab.research.google.com/drive/13pBUacPiotw1IvyffvGZ-HrtBr9T6l15?usp=sharing)\n",
    "10. [Pretrain and Fine-tune](https://colab.research.google.com/drive/1LN7R3U3xneDgDRK2gC5MzGkLysCWxuC3?usp=sharing)\n",
    "\n",
    "\n",
    "\n",
    "\n"
   ]
  }
 ],
 "metadata": {
  "accelerator": "GPU",
  "colab": {
   "collapsed_sections": [],
   "name": "Copy of ASRfromScratch.ipynb",
   "provenance": [],
   "toc_visible": true
  },
  "kernelspec": {
   "display_name": "Python 3",
   "language": "python",
   "name": "python3"
  },
  "language_info": {
   "codemirror_mode": {
    "name": "ipython",
    "version": 3
   },
   "file_extension": ".py",
   "mimetype": "text/x-python",
   "name": "python",
   "nbconvert_exporter": "python",
   "pygments_lexer": "ipython3",
   "version": "3.8.10"
  },
  "widgets": {
   "application/vnd.jupyter.widget-state+json": {
    "03842889ca4f42ddabecf025fa71cfd1": {
     "model_module": "@jupyter-widgets/base",
     "model_name": "LayoutModel",
     "state": {
      "_model_module": "@jupyter-widgets/base",
      "_model_module_version": "1.2.0",
      "_model_name": "LayoutModel",
      "_view_count": null,
      "_view_module": "@jupyter-widgets/base",
      "_view_module_version": "1.2.0",
      "_view_name": "LayoutView",
      "align_content": null,
      "align_items": null,
      "align_self": null,
      "border": null,
      "bottom": null,
      "display": null,
      "flex": null,
      "flex_flow": null,
      "grid_area": null,
      "grid_auto_columns": null,
      "grid_auto_flow": null,
      "grid_auto_rows": null,
      "grid_column": null,
      "grid_gap": null,
      "grid_row": null,
      "grid_template_areas": null,
      "grid_template_columns": null,
      "grid_template_rows": null,
      "height": null,
      "justify_content": null,
      "justify_items": null,
      "left": null,
      "margin": null,
      "max_height": null,
      "max_width": null,
      "min_height": null,
      "min_width": null,
      "object_fit": null,
      "object_position": null,
      "order": null,
      "overflow": null,
      "overflow_x": null,
      "overflow_y": null,
      "padding": null,
      "right": null,
      "top": null,
      "visibility": null,
      "width": null
     }
    },
    "07aadeb0ed4c4fc7a9ea91b3938a2e02": {
     "model_module": "@jupyter-widgets/controls",
     "model_name": "DescriptionStyleModel",
     "state": {
      "_model_module": "@jupyter-widgets/controls",
      "_model_module_version": "1.5.0",
      "_model_name": "DescriptionStyleModel",
      "_view_count": null,
      "_view_module": "@jupyter-widgets/base",
      "_view_module_version": "1.2.0",
      "_view_name": "StyleView",
      "description_width": ""
     }
    },
    "1060fe2ec0774468a5903acb2b7f9a87": {
     "model_module": "@jupyter-widgets/base",
     "model_name": "LayoutModel",
     "state": {
      "_model_module": "@jupyter-widgets/base",
      "_model_module_version": "1.2.0",
      "_model_name": "LayoutModel",
      "_view_count": null,
      "_view_module": "@jupyter-widgets/base",
      "_view_module_version": "1.2.0",
      "_view_name": "LayoutView",
      "align_content": null,
      "align_items": null,
      "align_self": null,
      "border": null,
      "bottom": null,
      "display": null,
      "flex": null,
      "flex_flow": null,
      "grid_area": null,
      "grid_auto_columns": null,
      "grid_auto_flow": null,
      "grid_auto_rows": null,
      "grid_column": null,
      "grid_gap": null,
      "grid_row": null,
      "grid_template_areas": null,
      "grid_template_columns": null,
      "grid_template_rows": null,
      "height": null,
      "justify_content": null,
      "justify_items": null,
      "left": null,
      "margin": null,
      "max_height": null,
      "max_width": null,
      "min_height": null,
      "min_width": null,
      "object_fit": null,
      "object_position": null,
      "order": null,
      "overflow": null,
      "overflow_x": null,
      "overflow_y": null,
      "padding": null,
      "right": null,
      "top": null,
      "visibility": null,
      "width": null
     }
    },
    "1247b9b12f884d00b318569af5d1c33f": {
     "model_module": "@jupyter-widgets/base",
     "model_name": "LayoutModel",
     "state": {
      "_model_module": "@jupyter-widgets/base",
      "_model_module_version": "1.2.0",
      "_model_name": "LayoutModel",
      "_view_count": null,
      "_view_module": "@jupyter-widgets/base",
      "_view_module_version": "1.2.0",
      "_view_name": "LayoutView",
      "align_content": null,
      "align_items": null,
      "align_self": null,
      "border": null,
      "bottom": null,
      "display": null,
      "flex": null,
      "flex_flow": null,
      "grid_area": null,
      "grid_auto_columns": null,
      "grid_auto_flow": null,
      "grid_auto_rows": null,
      "grid_column": null,
      "grid_gap": null,
      "grid_row": null,
      "grid_template_areas": null,
      "grid_template_columns": null,
      "grid_template_rows": null,
      "height": null,
      "justify_content": null,
      "justify_items": null,
      "left": null,
      "margin": null,
      "max_height": null,
      "max_width": null,
      "min_height": null,
      "min_width": null,
      "object_fit": null,
      "object_position": null,
      "order": null,
      "overflow": null,
      "overflow_x": null,
      "overflow_y": null,
      "padding": null,
      "right": null,
      "top": null,
      "visibility": null,
      "width": null
     }
    },
    "16fd875c6034418d844de3aa5f18d8d9": {
     "model_module": "@jupyter-widgets/controls",
     "model_name": "HBoxModel",
     "state": {
      "_dom_classes": [],
      "_model_module": "@jupyter-widgets/controls",
      "_model_module_version": "1.5.0",
      "_model_name": "HBoxModel",
      "_view_count": null,
      "_view_module": "@jupyter-widgets/controls",
      "_view_module_version": "1.5.0",
      "_view_name": "HBoxView",
      "box_style": "",
      "children": [
       "IPY_MODEL_2569d3526a6742828af2d9360a67d312",
       "IPY_MODEL_472f38e4f2514fcca5840a19bd6b80c7",
       "IPY_MODEL_cf48aa6b98014f97a974ca398287b6a4"
      ],
      "layout": "IPY_MODEL_1247b9b12f884d00b318569af5d1c33f"
     }
    },
    "19800374b3cc44db9c82637d3981265a": {
     "model_module": "@jupyter-widgets/base",
     "model_name": "LayoutModel",
     "state": {
      "_model_module": "@jupyter-widgets/base",
      "_model_module_version": "1.2.0",
      "_model_name": "LayoutModel",
      "_view_count": null,
      "_view_module": "@jupyter-widgets/base",
      "_view_module_version": "1.2.0",
      "_view_name": "LayoutView",
      "align_content": null,
      "align_items": null,
      "align_self": null,
      "border": null,
      "bottom": null,
      "display": null,
      "flex": null,
      "flex_flow": null,
      "grid_area": null,
      "grid_auto_columns": null,
      "grid_auto_flow": null,
      "grid_auto_rows": null,
      "grid_column": null,
      "grid_gap": null,
      "grid_row": null,
      "grid_template_areas": null,
      "grid_template_columns": null,
      "grid_template_rows": null,
      "height": null,
      "justify_content": null,
      "justify_items": null,
      "left": null,
      "margin": null,
      "max_height": null,
      "max_width": null,
      "min_height": null,
      "min_width": null,
      "object_fit": null,
      "object_position": null,
      "order": null,
      "overflow": null,
      "overflow_x": null,
      "overflow_y": null,
      "padding": null,
      "right": null,
      "top": null,
      "visibility": null,
      "width": null
     }
    },
    "1b9fd09c88184811ad52d2b03c60422d": {
     "model_module": "@jupyter-widgets/base",
     "model_name": "LayoutModel",
     "state": {
      "_model_module": "@jupyter-widgets/base",
      "_model_module_version": "1.2.0",
      "_model_name": "LayoutModel",
      "_view_count": null,
      "_view_module": "@jupyter-widgets/base",
      "_view_module_version": "1.2.0",
      "_view_name": "LayoutView",
      "align_content": null,
      "align_items": null,
      "align_self": null,
      "border": null,
      "bottom": null,
      "display": null,
      "flex": null,
      "flex_flow": null,
      "grid_area": null,
      "grid_auto_columns": null,
      "grid_auto_flow": null,
      "grid_auto_rows": null,
      "grid_column": null,
      "grid_gap": null,
      "grid_row": null,
      "grid_template_areas": null,
      "grid_template_columns": null,
      "grid_template_rows": null,
      "height": null,
      "justify_content": null,
      "justify_items": null,
      "left": null,
      "margin": null,
      "max_height": null,
      "max_width": null,
      "min_height": null,
      "min_width": null,
      "object_fit": null,
      "object_position": null,
      "order": null,
      "overflow": null,
      "overflow_x": null,
      "overflow_y": null,
      "padding": null,
      "right": null,
      "top": null,
      "visibility": null,
      "width": null
     }
    },
    "1d871e41a1c346c0941ff8bf286a8fc2": {
     "model_module": "@jupyter-widgets/controls",
     "model_name": "ProgressStyleModel",
     "state": {
      "_model_module": "@jupyter-widgets/controls",
      "_model_module_version": "1.5.0",
      "_model_name": "ProgressStyleModel",
      "_view_count": null,
      "_view_module": "@jupyter-widgets/base",
      "_view_module_version": "1.2.0",
      "_view_name": "StyleView",
      "bar_color": null,
      "description_width": ""
     }
    },
    "209d0ef110b343d08759c8daeaeb78b8": {
     "model_module": "@jupyter-widgets/controls",
     "model_name": "DescriptionStyleModel",
     "state": {
      "_model_module": "@jupyter-widgets/controls",
      "_model_module_version": "1.5.0",
      "_model_name": "DescriptionStyleModel",
      "_view_count": null,
      "_view_module": "@jupyter-widgets/base",
      "_view_module_version": "1.2.0",
      "_view_name": "StyleView",
      "description_width": ""
     }
    },
    "20d770de4aa74489a9f816cf038809b4": {
     "model_module": "@jupyter-widgets/controls",
     "model_name": "FloatProgressModel",
     "state": {
      "_dom_classes": [],
      "_model_module": "@jupyter-widgets/controls",
      "_model_module_version": "1.5.0",
      "_model_name": "FloatProgressModel",
      "_view_count": null,
      "_view_module": "@jupyter-widgets/controls",
      "_view_module_version": "1.5.0",
      "_view_name": "ProgressView",
      "bar_style": "success",
      "description": "",
      "description_tooltip": null,
      "layout": "IPY_MODEL_e3fecdd0618745928f6d778aebc05afa",
      "max": 104390,
      "min": 0,
      "orientation": "horizontal",
      "style": "IPY_MODEL_d7887ea69bfe4ffa931d1a730d0e9e02",
      "value": 104390
     }
    },
    "2569d3526a6742828af2d9360a67d312": {
     "model_module": "@jupyter-widgets/controls",
     "model_name": "HTMLModel",
     "state": {
      "_dom_classes": [],
      "_model_module": "@jupyter-widgets/controls",
      "_model_module_version": "1.5.0",
      "_model_name": "HTMLModel",
      "_view_count": null,
      "_view_module": "@jupyter-widgets/controls",
      "_view_module_version": "1.5.0",
      "_view_name": "HTMLView",
      "description": "",
      "description_tooltip": null,
      "layout": "IPY_MODEL_afa3cd14810244bf92d8814bd695f3b6",
      "placeholder": "​",
      "style": "IPY_MODEL_07aadeb0ed4c4fc7a9ea91b3938a2e02",
      "value": "Downloading: 100%"
     }
    },
    "26573bd508184e5faac952104b8784b5": {
     "model_module": "@jupyter-widgets/controls",
     "model_name": "DescriptionStyleModel",
     "state": {
      "_model_module": "@jupyter-widgets/controls",
      "_model_module_version": "1.5.0",
      "_model_name": "DescriptionStyleModel",
      "_view_count": null,
      "_view_module": "@jupyter-widgets/base",
      "_view_module_version": "1.2.0",
      "_view_name": "StyleView",
      "description_width": ""
     }
    },
    "2a8a07ff265941c78d3dd4915f5c11a1": {
     "model_module": "@jupyter-widgets/controls",
     "model_name": "HTMLModel",
     "state": {
      "_dom_classes": [],
      "_model_module": "@jupyter-widgets/controls",
      "_model_module_version": "1.5.0",
      "_model_name": "HTMLModel",
      "_view_count": null,
      "_view_module": "@jupyter-widgets/controls",
      "_view_module_version": "1.5.0",
      "_view_name": "HTMLView",
      "description": "",
      "description_tooltip": null,
      "layout": "IPY_MODEL_19800374b3cc44db9c82637d3981265a",
      "placeholder": "​",
      "style": "IPY_MODEL_209d0ef110b343d08759c8daeaeb78b8",
      "value": " 480M/480M [00:08&lt;00:00, 55.6MB/s]"
     }
    },
    "2b38891bfbf148c99c8f770a46c129dd": {
     "model_module": "@jupyter-widgets/base",
     "model_name": "LayoutModel",
     "state": {
      "_model_module": "@jupyter-widgets/base",
      "_model_module_version": "1.2.0",
      "_model_name": "LayoutModel",
      "_view_count": null,
      "_view_module": "@jupyter-widgets/base",
      "_view_module_version": "1.2.0",
      "_view_name": "LayoutView",
      "align_content": null,
      "align_items": null,
      "align_self": null,
      "border": null,
      "bottom": null,
      "display": null,
      "flex": null,
      "flex_flow": null,
      "grid_area": null,
      "grid_auto_columns": null,
      "grid_auto_flow": null,
      "grid_auto_rows": null,
      "grid_column": null,
      "grid_gap": null,
      "grid_row": null,
      "grid_template_areas": null,
      "grid_template_columns": null,
      "grid_template_rows": null,
      "height": null,
      "justify_content": null,
      "justify_items": null,
      "left": null,
      "margin": null,
      "max_height": null,
      "max_width": null,
      "min_height": null,
      "min_width": null,
      "object_fit": null,
      "object_position": null,
      "order": null,
      "overflow": null,
      "overflow_x": null,
      "overflow_y": null,
      "padding": null,
      "right": null,
      "top": null,
      "visibility": null,
      "width": null
     }
    },
    "2b7c662594354cfa9327ba21f93fe51e": {
     "model_module": "@jupyter-widgets/controls",
     "model_name": "HBoxModel",
     "state": {
      "_dom_classes": [],
      "_model_module": "@jupyter-widgets/controls",
      "_model_module_version": "1.5.0",
      "_model_name": "HBoxModel",
      "_view_count": null,
      "_view_module": "@jupyter-widgets/controls",
      "_view_module_version": "1.5.0",
      "_view_name": "HBoxView",
      "box_style": "",
      "children": [
       "IPY_MODEL_3af10f6cc57a47719bfca37ee59eb84f",
       "IPY_MODEL_b176842c64324374b0d42325dbdae328",
       "IPY_MODEL_55e848a9b4264094b5e9fa9e29adf605"
      ],
      "layout": "IPY_MODEL_b5ad90b6a6924ae3993ff2a9751c917c"
     }
    },
    "2e7f8ea4c64d49478573974925975f18": {
     "model_module": "@jupyter-widgets/base",
     "model_name": "LayoutModel",
     "state": {
      "_model_module": "@jupyter-widgets/base",
      "_model_module_version": "1.2.0",
      "_model_name": "LayoutModel",
      "_view_count": null,
      "_view_module": "@jupyter-widgets/base",
      "_view_module_version": "1.2.0",
      "_view_name": "LayoutView",
      "align_content": null,
      "align_items": null,
      "align_self": null,
      "border": null,
      "bottom": null,
      "display": null,
      "flex": null,
      "flex_flow": null,
      "grid_area": null,
      "grid_auto_columns": null,
      "grid_auto_flow": null,
      "grid_auto_rows": null,
      "grid_column": null,
      "grid_gap": null,
      "grid_row": null,
      "grid_template_areas": null,
      "grid_template_columns": null,
      "grid_template_rows": null,
      "height": null,
      "justify_content": null,
      "justify_items": null,
      "left": null,
      "margin": null,
      "max_height": null,
      "max_width": null,
      "min_height": null,
      "min_width": null,
      "object_fit": null,
      "object_position": null,
      "order": null,
      "overflow": null,
      "overflow_x": null,
      "overflow_y": null,
      "padding": null,
      "right": null,
      "top": null,
      "visibility": null,
      "width": null
     }
    },
    "2e96792c1c3949ef9deb839df5c3f8e9": {
     "model_module": "@jupyter-widgets/controls",
     "model_name": "HTMLModel",
     "state": {
      "_dom_classes": [],
      "_model_module": "@jupyter-widgets/controls",
      "_model_module_version": "1.5.0",
      "_model_name": "HTMLModel",
      "_view_count": null,
      "_view_module": "@jupyter-widgets/controls",
      "_view_module_version": "1.5.0",
      "_view_name": "HTMLView",
      "description": "",
      "description_tooltip": null,
      "layout": "IPY_MODEL_418580459dc54712a947fbdf6ec8bd37",
      "placeholder": "​",
      "style": "IPY_MODEL_f207a275c2624be9b89d74b2f0fe2738",
      "value": "Downloading: 100%"
     }
    },
    "31a565eb19ab4091a965a1191a0f9e65": {
     "model_module": "@jupyter-widgets/controls",
     "model_name": "DescriptionStyleModel",
     "state": {
      "_model_module": "@jupyter-widgets/controls",
      "_model_module_version": "1.5.0",
      "_model_name": "DescriptionStyleModel",
      "_view_count": null,
      "_view_module": "@jupyter-widgets/base",
      "_view_module_version": "1.2.0",
      "_view_name": "StyleView",
      "description_width": ""
     }
    },
    "326aecdc3b3342ceb3d0bb82c1b6ca93": {
     "model_module": "@jupyter-widgets/controls",
     "model_name": "DescriptionStyleModel",
     "state": {
      "_model_module": "@jupyter-widgets/controls",
      "_model_module_version": "1.5.0",
      "_model_name": "DescriptionStyleModel",
      "_view_count": null,
      "_view_module": "@jupyter-widgets/base",
      "_view_module_version": "1.2.0",
      "_view_name": "StyleView",
      "description_width": ""
     }
    },
    "32f78deb548546a788a92d9507f6eb72": {
     "model_module": "@jupyter-widgets/controls",
     "model_name": "ProgressStyleModel",
     "state": {
      "_model_module": "@jupyter-widgets/controls",
      "_model_module_version": "1.5.0",
      "_model_name": "ProgressStyleModel",
      "_view_count": null,
      "_view_module": "@jupyter-widgets/base",
      "_view_module_version": "1.2.0",
      "_view_name": "StyleView",
      "bar_color": null,
      "description_width": ""
     }
    },
    "34181d8ec5fa45fe858b56c3eb86aed6": {
     "model_module": "@jupyter-widgets/controls",
     "model_name": "HTMLModel",
     "state": {
      "_dom_classes": [],
      "_model_module": "@jupyter-widgets/controls",
      "_model_module_version": "1.5.0",
      "_model_name": "HTMLModel",
      "_view_count": null,
      "_view_module": "@jupyter-widgets/controls",
      "_view_module_version": "1.5.0",
      "_view_name": "HTMLView",
      "description": "",
      "description_tooltip": null,
      "layout": "IPY_MODEL_3f9828cfafc14ee9935039fd43f4c6a0",
      "placeholder": "​",
      "style": "IPY_MODEL_5ccec8b8ad064037bf7f55ebb9e23907",
      "value": " 104k/104k [00:00&lt;00:00, 297kB/s]"
     }
    },
    "3af10f6cc57a47719bfca37ee59eb84f": {
     "model_module": "@jupyter-widgets/controls",
     "model_name": "HTMLModel",
     "state": {
      "_dom_classes": [],
      "_model_module": "@jupyter-widgets/controls",
      "_model_module_version": "1.5.0",
      "_model_name": "HTMLModel",
      "_view_count": null,
      "_view_module": "@jupyter-widgets/controls",
      "_view_module_version": "1.5.0",
      "_view_name": "HTMLView",
      "description": "",
      "description_tooltip": null,
      "layout": "IPY_MODEL_855230c0c2fd46fcb28a63065ce5ebd7",
      "placeholder": "​",
      "style": "IPY_MODEL_326aecdc3b3342ceb3d0bb82c1b6ca93",
      "value": "Downloading: 100%"
     }
    },
    "3f9828cfafc14ee9935039fd43f4c6a0": {
     "model_module": "@jupyter-widgets/base",
     "model_name": "LayoutModel",
     "state": {
      "_model_module": "@jupyter-widgets/base",
      "_model_module_version": "1.2.0",
      "_model_name": "LayoutModel",
      "_view_count": null,
      "_view_module": "@jupyter-widgets/base",
      "_view_module_version": "1.2.0",
      "_view_name": "LayoutView",
      "align_content": null,
      "align_items": null,
      "align_self": null,
      "border": null,
      "bottom": null,
      "display": null,
      "flex": null,
      "flex_flow": null,
      "grid_area": null,
      "grid_auto_columns": null,
      "grid_auto_flow": null,
      "grid_auto_rows": null,
      "grid_column": null,
      "grid_gap": null,
      "grid_row": null,
      "grid_template_areas": null,
      "grid_template_columns": null,
      "grid_template_rows": null,
      "height": null,
      "justify_content": null,
      "justify_items": null,
      "left": null,
      "margin": null,
      "max_height": null,
      "max_width": null,
      "min_height": null,
      "min_width": null,
      "object_fit": null,
      "object_position": null,
      "order": null,
      "overflow": null,
      "overflow_x": null,
      "overflow_y": null,
      "padding": null,
      "right": null,
      "top": null,
      "visibility": null,
      "width": null
     }
    },
    "418580459dc54712a947fbdf6ec8bd37": {
     "model_module": "@jupyter-widgets/base",
     "model_name": "LayoutModel",
     "state": {
      "_model_module": "@jupyter-widgets/base",
      "_model_module_version": "1.2.0",
      "_model_name": "LayoutModel",
      "_view_count": null,
      "_view_module": "@jupyter-widgets/base",
      "_view_module_version": "1.2.0",
      "_view_name": "LayoutView",
      "align_content": null,
      "align_items": null,
      "align_self": null,
      "border": null,
      "bottom": null,
      "display": null,
      "flex": null,
      "flex_flow": null,
      "grid_area": null,
      "grid_auto_columns": null,
      "grid_auto_flow": null,
      "grid_auto_rows": null,
      "grid_column": null,
      "grid_gap": null,
      "grid_row": null,
      "grid_template_areas": null,
      "grid_template_columns": null,
      "grid_template_rows": null,
      "height": null,
      "justify_content": null,
      "justify_items": null,
      "left": null,
      "margin": null,
      "max_height": null,
      "max_width": null,
      "min_height": null,
      "min_width": null,
      "object_fit": null,
      "object_position": null,
      "order": null,
      "overflow": null,
      "overflow_x": null,
      "overflow_y": null,
      "padding": null,
      "right": null,
      "top": null,
      "visibility": null,
      "width": null
     }
    },
    "4377bcef40f142efaa448b925d36730f": {
     "model_module": "@jupyter-widgets/base",
     "model_name": "LayoutModel",
     "state": {
      "_model_module": "@jupyter-widgets/base",
      "_model_module_version": "1.2.0",
      "_model_name": "LayoutModel",
      "_view_count": null,
      "_view_module": "@jupyter-widgets/base",
      "_view_module_version": "1.2.0",
      "_view_name": "LayoutView",
      "align_content": null,
      "align_items": null,
      "align_self": null,
      "border": null,
      "bottom": null,
      "display": null,
      "flex": null,
      "flex_flow": null,
      "grid_area": null,
      "grid_auto_columns": null,
      "grid_auto_flow": null,
      "grid_auto_rows": null,
      "grid_column": null,
      "grid_gap": null,
      "grid_row": null,
      "grid_template_areas": null,
      "grid_template_columns": null,
      "grid_template_rows": null,
      "height": null,
      "justify_content": null,
      "justify_items": null,
      "left": null,
      "margin": null,
      "max_height": null,
      "max_width": null,
      "min_height": null,
      "min_width": null,
      "object_fit": null,
      "object_position": null,
      "order": null,
      "overflow": null,
      "overflow_x": null,
      "overflow_y": null,
      "padding": null,
      "right": null,
      "top": null,
      "visibility": null,
      "width": null
     }
    },
    "472f38e4f2514fcca5840a19bd6b80c7": {
     "model_module": "@jupyter-widgets/controls",
     "model_name": "FloatProgressModel",
     "state": {
      "_dom_classes": [],
      "_model_module": "@jupyter-widgets/controls",
      "_model_module_version": "1.5.0",
      "_model_name": "FloatProgressModel",
      "_view_count": null,
      "_view_module": "@jupyter-widgets/controls",
      "_view_module_version": "1.5.0",
      "_view_name": "ProgressView",
      "bar_style": "success",
      "description": "",
      "description_tooltip": null,
      "layout": "IPY_MODEL_cb36b99b7ee24cefa46590ecc0122b72",
      "max": 212420087,
      "min": 0,
      "orientation": "horizontal",
      "style": "IPY_MODEL_69bcb272473c45caac52ac93725ab4e1",
      "value": 212420087
     }
    },
    "48901abf068b4242a014050db20b0631": {
     "model_module": "@jupyter-widgets/base",
     "model_name": "LayoutModel",
     "state": {
      "_model_module": "@jupyter-widgets/base",
      "_model_module_version": "1.2.0",
      "_model_name": "LayoutModel",
      "_view_count": null,
      "_view_module": "@jupyter-widgets/base",
      "_view_module_version": "1.2.0",
      "_view_name": "LayoutView",
      "align_content": null,
      "align_items": null,
      "align_self": null,
      "border": null,
      "bottom": null,
      "display": null,
      "flex": null,
      "flex_flow": null,
      "grid_area": null,
      "grid_auto_columns": null,
      "grid_auto_flow": null,
      "grid_auto_rows": null,
      "grid_column": null,
      "grid_gap": null,
      "grid_row": null,
      "grid_template_areas": null,
      "grid_template_columns": null,
      "grid_template_rows": null,
      "height": null,
      "justify_content": null,
      "justify_items": null,
      "left": null,
      "margin": null,
      "max_height": null,
      "max_width": null,
      "min_height": null,
      "min_width": null,
      "object_fit": null,
      "object_position": null,
      "order": null,
      "overflow": null,
      "overflow_x": null,
      "overflow_y": null,
      "padding": null,
      "right": null,
      "top": null,
      "visibility": null,
      "width": null
     }
    },
    "55e848a9b4264094b5e9fa9e29adf605": {
     "model_module": "@jupyter-widgets/controls",
     "model_name": "HTMLModel",
     "state": {
      "_dom_classes": [],
      "_model_module": "@jupyter-widgets/controls",
      "_model_module_version": "1.5.0",
      "_model_name": "HTMLModel",
      "_view_count": null,
      "_view_module": "@jupyter-widgets/controls",
      "_view_module_version": "1.5.0",
      "_view_name": "HTMLView",
      "description": "",
      "description_tooltip": null,
      "layout": "IPY_MODEL_03842889ca4f42ddabecf025fa71cfd1",
      "placeholder": "​",
      "style": "IPY_MODEL_c5cd1cec1745490aa00041eaccf3f4e3",
      "value": " 253k/253k [00:00&lt;00:00, 3.82MB/s]"
     }
    },
    "5a908cae48844f8ca14baf189d7e58bd": {
     "model_module": "@jupyter-widgets/controls",
     "model_name": "HTMLModel",
     "state": {
      "_dom_classes": [],
      "_model_module": "@jupyter-widgets/controls",
      "_model_module_version": "1.5.0",
      "_model_name": "HTMLModel",
      "_view_count": null,
      "_view_module": "@jupyter-widgets/controls",
      "_view_module_version": "1.5.0",
      "_view_name": "HTMLView",
      "description": "",
      "description_tooltip": null,
      "layout": "IPY_MODEL_1060fe2ec0774468a5903acb2b7f9a87",
      "placeholder": "​",
      "style": "IPY_MODEL_772373f931bc42869027b4db253737ad",
      "value": " 4.42k/4.42k [00:00&lt;00:00, 80.0kB/s]"
     }
    },
    "5ccec8b8ad064037bf7f55ebb9e23907": {
     "model_module": "@jupyter-widgets/controls",
     "model_name": "DescriptionStyleModel",
     "state": {
      "_model_module": "@jupyter-widgets/controls",
      "_model_module_version": "1.5.0",
      "_model_name": "DescriptionStyleModel",
      "_view_count": null,
      "_view_module": "@jupyter-widgets/base",
      "_view_module_version": "1.2.0",
      "_view_name": "StyleView",
      "description_width": ""
     }
    },
    "6248b94de0464c2b933add8e4f6b7af4": {
     "model_module": "@jupyter-widgets/controls",
     "model_name": "HBoxModel",
     "state": {
      "_dom_classes": [],
      "_model_module": "@jupyter-widgets/controls",
      "_model_module_version": "1.5.0",
      "_model_name": "HBoxModel",
      "_view_count": null,
      "_view_module": "@jupyter-widgets/controls",
      "_view_module_version": "1.5.0",
      "_view_name": "HBoxView",
      "box_style": "",
      "children": [
       "IPY_MODEL_eff25baa67674ee58e9715e78cd5b7a1",
       "IPY_MODEL_f917b17d56734fb1b8cb471e51b15328",
       "IPY_MODEL_2a8a07ff265941c78d3dd4915f5c11a1"
      ],
      "layout": "IPY_MODEL_48901abf068b4242a014050db20b0631"
     }
    },
    "676c443474a64391bb0398cfd3b7d7c5": {
     "model_module": "@jupyter-widgets/controls",
     "model_name": "DescriptionStyleModel",
     "state": {
      "_model_module": "@jupyter-widgets/controls",
      "_model_module_version": "1.5.0",
      "_model_name": "DescriptionStyleModel",
      "_view_count": null,
      "_view_module": "@jupyter-widgets/base",
      "_view_module_version": "1.2.0",
      "_view_name": "StyleView",
      "description_width": ""
     }
    },
    "69bcb272473c45caac52ac93725ab4e1": {
     "model_module": "@jupyter-widgets/controls",
     "model_name": "ProgressStyleModel",
     "state": {
      "_model_module": "@jupyter-widgets/controls",
      "_model_module_version": "1.5.0",
      "_model_name": "ProgressStyleModel",
      "_view_count": null,
      "_view_module": "@jupyter-widgets/base",
      "_view_module_version": "1.2.0",
      "_view_name": "StyleView",
      "bar_color": null,
      "description_width": ""
     }
    },
    "742aaf25ce0b4911ad1b17aced2a411f": {
     "model_module": "@jupyter-widgets/controls",
     "model_name": "FloatProgressModel",
     "state": {
      "_dom_classes": [],
      "_model_module": "@jupyter-widgets/controls",
      "_model_module_version": "1.5.0",
      "_model_name": "FloatProgressModel",
      "_view_count": null,
      "_view_module": "@jupyter-widgets/controls",
      "_view_module_version": "1.5.0",
      "_view_name": "ProgressView",
      "bar_style": "success",
      "description": "",
      "description_tooltip": null,
      "layout": "IPY_MODEL_2b38891bfbf148c99c8f770a46c129dd",
      "max": 4420,
      "min": 0,
      "orientation": "horizontal",
      "style": "IPY_MODEL_1d871e41a1c346c0941ff8bf286a8fc2",
      "value": 4420
     }
    },
    "772373f931bc42869027b4db253737ad": {
     "model_module": "@jupyter-widgets/controls",
     "model_name": "DescriptionStyleModel",
     "state": {
      "_model_module": "@jupyter-widgets/controls",
      "_model_module_version": "1.5.0",
      "_model_name": "DescriptionStyleModel",
      "_view_count": null,
      "_view_module": "@jupyter-widgets/base",
      "_view_module_version": "1.2.0",
      "_view_name": "StyleView",
      "description_width": ""
     }
    },
    "793ef14b7b004096981c55e7bf4fbdae": {
     "model_module": "@jupyter-widgets/controls",
     "model_name": "HBoxModel",
     "state": {
      "_dom_classes": [],
      "_model_module": "@jupyter-widgets/controls",
      "_model_module_version": "1.5.0",
      "_model_name": "HBoxModel",
      "_view_count": null,
      "_view_module": "@jupyter-widgets/controls",
      "_view_module_version": "1.5.0",
      "_view_name": "HBoxView",
      "box_style": "",
      "children": [
       "IPY_MODEL_ba5f07c308fa42f0963848266d7e376d",
       "IPY_MODEL_742aaf25ce0b4911ad1b17aced2a411f",
       "IPY_MODEL_5a908cae48844f8ca14baf189d7e58bd"
      ],
      "layout": "IPY_MODEL_c8edc1eae8084ade9b3e02be21ac6b36"
     }
    },
    "81573628e9ef4ec18a325a0d62b790e8": {
     "model_module": "@jupyter-widgets/base",
     "model_name": "LayoutModel",
     "state": {
      "_model_module": "@jupyter-widgets/base",
      "_model_module_version": "1.2.0",
      "_model_name": "LayoutModel",
      "_view_count": null,
      "_view_module": "@jupyter-widgets/base",
      "_view_module_version": "1.2.0",
      "_view_name": "LayoutView",
      "align_content": null,
      "align_items": null,
      "align_self": null,
      "border": null,
      "bottom": null,
      "display": null,
      "flex": null,
      "flex_flow": null,
      "grid_area": null,
      "grid_auto_columns": null,
      "grid_auto_flow": null,
      "grid_auto_rows": null,
      "grid_column": null,
      "grid_gap": null,
      "grid_row": null,
      "grid_template_areas": null,
      "grid_template_columns": null,
      "grid_template_rows": null,
      "height": null,
      "justify_content": null,
      "justify_items": null,
      "left": null,
      "margin": null,
      "max_height": null,
      "max_width": null,
      "min_height": null,
      "min_width": null,
      "object_fit": null,
      "object_position": null,
      "order": null,
      "overflow": null,
      "overflow_x": null,
      "overflow_y": null,
      "padding": null,
      "right": null,
      "top": null,
      "visibility": null,
      "width": null
     }
    },
    "855230c0c2fd46fcb28a63065ce5ebd7": {
     "model_module": "@jupyter-widgets/base",
     "model_name": "LayoutModel",
     "state": {
      "_model_module": "@jupyter-widgets/base",
      "_model_module_version": "1.2.0",
      "_model_name": "LayoutModel",
      "_view_count": null,
      "_view_module": "@jupyter-widgets/base",
      "_view_module_version": "1.2.0",
      "_view_name": "LayoutView",
      "align_content": null,
      "align_items": null,
      "align_self": null,
      "border": null,
      "bottom": null,
      "display": null,
      "flex": null,
      "flex_flow": null,
      "grid_area": null,
      "grid_auto_columns": null,
      "grid_auto_flow": null,
      "grid_auto_rows": null,
      "grid_column": null,
      "grid_gap": null,
      "grid_row": null,
      "grid_template_areas": null,
      "grid_template_columns": null,
      "grid_template_rows": null,
      "height": null,
      "justify_content": null,
      "justify_items": null,
      "left": null,
      "margin": null,
      "max_height": null,
      "max_width": null,
      "min_height": null,
      "min_width": null,
      "object_fit": null,
      "object_position": null,
      "order": null,
      "overflow": null,
      "overflow_x": null,
      "overflow_y": null,
      "padding": null,
      "right": null,
      "top": null,
      "visibility": null,
      "width": null
     }
    },
    "8d8f39950d0d416395d3c1c2afc03396": {
     "model_module": "@jupyter-widgets/base",
     "model_name": "LayoutModel",
     "state": {
      "_model_module": "@jupyter-widgets/base",
      "_model_module_version": "1.2.0",
      "_model_name": "LayoutModel",
      "_view_count": null,
      "_view_module": "@jupyter-widgets/base",
      "_view_module_version": "1.2.0",
      "_view_name": "LayoutView",
      "align_content": null,
      "align_items": null,
      "align_self": null,
      "border": null,
      "bottom": null,
      "display": null,
      "flex": null,
      "flex_flow": null,
      "grid_area": null,
      "grid_auto_columns": null,
      "grid_auto_flow": null,
      "grid_auto_rows": null,
      "grid_column": null,
      "grid_gap": null,
      "grid_row": null,
      "grid_template_areas": null,
      "grid_template_columns": null,
      "grid_template_rows": null,
      "height": null,
      "justify_content": null,
      "justify_items": null,
      "left": null,
      "margin": null,
      "max_height": null,
      "max_width": null,
      "min_height": null,
      "min_width": null,
      "object_fit": null,
      "object_position": null,
      "order": null,
      "overflow": null,
      "overflow_x": null,
      "overflow_y": null,
      "padding": null,
      "right": null,
      "top": null,
      "visibility": null,
      "width": null
     }
    },
    "9e8b3e216161422bb18c494ee3da756d": {
     "model_module": "@jupyter-widgets/controls",
     "model_name": "HBoxModel",
     "state": {
      "_dom_classes": [],
      "_model_module": "@jupyter-widgets/controls",
      "_model_module_version": "1.5.0",
      "_model_name": "HBoxModel",
      "_view_count": null,
      "_view_module": "@jupyter-widgets/controls",
      "_view_module_version": "1.5.0",
      "_view_name": "HBoxView",
      "box_style": "",
      "children": [
       "IPY_MODEL_2e96792c1c3949ef9deb839df5c3f8e9",
       "IPY_MODEL_20d770de4aa74489a9f816cf038809b4",
       "IPY_MODEL_34181d8ec5fa45fe858b56c3eb86aed6"
      ],
      "layout": "IPY_MODEL_4377bcef40f142efaa448b925d36730f"
     }
    },
    "afa3cd14810244bf92d8814bd695f3b6": {
     "model_module": "@jupyter-widgets/base",
     "model_name": "LayoutModel",
     "state": {
      "_model_module": "@jupyter-widgets/base",
      "_model_module_version": "1.2.0",
      "_model_name": "LayoutModel",
      "_view_count": null,
      "_view_module": "@jupyter-widgets/base",
      "_view_module_version": "1.2.0",
      "_view_name": "LayoutView",
      "align_content": null,
      "align_items": null,
      "align_self": null,
      "border": null,
      "bottom": null,
      "display": null,
      "flex": null,
      "flex_flow": null,
      "grid_area": null,
      "grid_auto_columns": null,
      "grid_auto_flow": null,
      "grid_auto_rows": null,
      "grid_column": null,
      "grid_gap": null,
      "grid_row": null,
      "grid_template_areas": null,
      "grid_template_columns": null,
      "grid_template_rows": null,
      "height": null,
      "justify_content": null,
      "justify_items": null,
      "left": null,
      "margin": null,
      "max_height": null,
      "max_width": null,
      "min_height": null,
      "min_width": null,
      "object_fit": null,
      "object_position": null,
      "order": null,
      "overflow": null,
      "overflow_x": null,
      "overflow_y": null,
      "padding": null,
      "right": null,
      "top": null,
      "visibility": null,
      "width": null
     }
    },
    "b176842c64324374b0d42325dbdae328": {
     "model_module": "@jupyter-widgets/controls",
     "model_name": "FloatProgressModel",
     "state": {
      "_dom_classes": [],
      "_model_module": "@jupyter-widgets/controls",
      "_model_module_version": "1.5.0",
      "_model_name": "FloatProgressModel",
      "_view_count": null,
      "_view_module": "@jupyter-widgets/controls",
      "_view_module_version": "1.5.0",
      "_view_name": "ProgressView",
      "bar_style": "success",
      "description": "",
      "description_tooltip": null,
      "layout": "IPY_MODEL_81573628e9ef4ec18a325a0d62b790e8",
      "max": 253217,
      "min": 0,
      "orientation": "horizontal",
      "style": "IPY_MODEL_cc771ea227a94bcf9ffda70f5085f90f",
      "value": 253217
     }
    },
    "b5ad90b6a6924ae3993ff2a9751c917c": {
     "model_module": "@jupyter-widgets/base",
     "model_name": "LayoutModel",
     "state": {
      "_model_module": "@jupyter-widgets/base",
      "_model_module_version": "1.2.0",
      "_model_name": "LayoutModel",
      "_view_count": null,
      "_view_module": "@jupyter-widgets/base",
      "_view_module_version": "1.2.0",
      "_view_name": "LayoutView",
      "align_content": null,
      "align_items": null,
      "align_self": null,
      "border": null,
      "bottom": null,
      "display": null,
      "flex": null,
      "flex_flow": null,
      "grid_area": null,
      "grid_auto_columns": null,
      "grid_auto_flow": null,
      "grid_auto_rows": null,
      "grid_column": null,
      "grid_gap": null,
      "grid_row": null,
      "grid_template_areas": null,
      "grid_template_columns": null,
      "grid_template_rows": null,
      "height": null,
      "justify_content": null,
      "justify_items": null,
      "left": null,
      "margin": null,
      "max_height": null,
      "max_width": null,
      "min_height": null,
      "min_width": null,
      "object_fit": null,
      "object_position": null,
      "order": null,
      "overflow": null,
      "overflow_x": null,
      "overflow_y": null,
      "padding": null,
      "right": null,
      "top": null,
      "visibility": null,
      "width": null
     }
    },
    "ba5f07c308fa42f0963848266d7e376d": {
     "model_module": "@jupyter-widgets/controls",
     "model_name": "HTMLModel",
     "state": {
      "_dom_classes": [],
      "_model_module": "@jupyter-widgets/controls",
      "_model_module_version": "1.5.0",
      "_model_name": "HTMLModel",
      "_view_count": null,
      "_view_module": "@jupyter-widgets/controls",
      "_view_module_version": "1.5.0",
      "_view_name": "HTMLView",
      "description": "",
      "description_tooltip": null,
      "layout": "IPY_MODEL_8d8f39950d0d416395d3c1c2afc03396",
      "placeholder": "​",
      "style": "IPY_MODEL_676c443474a64391bb0398cfd3b7d7c5",
      "value": "Downloading: 100%"
     }
    },
    "c5cd1cec1745490aa00041eaccf3f4e3": {
     "model_module": "@jupyter-widgets/controls",
     "model_name": "DescriptionStyleModel",
     "state": {
      "_model_module": "@jupyter-widgets/controls",
      "_model_module_version": "1.5.0",
      "_model_name": "DescriptionStyleModel",
      "_view_count": null,
      "_view_module": "@jupyter-widgets/base",
      "_view_module_version": "1.2.0",
      "_view_name": "StyleView",
      "description_width": ""
     }
    },
    "c8edc1eae8084ade9b3e02be21ac6b36": {
     "model_module": "@jupyter-widgets/base",
     "model_name": "LayoutModel",
     "state": {
      "_model_module": "@jupyter-widgets/base",
      "_model_module_version": "1.2.0",
      "_model_name": "LayoutModel",
      "_view_count": null,
      "_view_module": "@jupyter-widgets/base",
      "_view_module_version": "1.2.0",
      "_view_name": "LayoutView",
      "align_content": null,
      "align_items": null,
      "align_self": null,
      "border": null,
      "bottom": null,
      "display": null,
      "flex": null,
      "flex_flow": null,
      "grid_area": null,
      "grid_auto_columns": null,
      "grid_auto_flow": null,
      "grid_auto_rows": null,
      "grid_column": null,
      "grid_gap": null,
      "grid_row": null,
      "grid_template_areas": null,
      "grid_template_columns": null,
      "grid_template_rows": null,
      "height": null,
      "justify_content": null,
      "justify_items": null,
      "left": null,
      "margin": null,
      "max_height": null,
      "max_width": null,
      "min_height": null,
      "min_width": null,
      "object_fit": null,
      "object_position": null,
      "order": null,
      "overflow": null,
      "overflow_x": null,
      "overflow_y": null,
      "padding": null,
      "right": null,
      "top": null,
      "visibility": null,
      "width": null
     }
    },
    "cb36b99b7ee24cefa46590ecc0122b72": {
     "model_module": "@jupyter-widgets/base",
     "model_name": "LayoutModel",
     "state": {
      "_model_module": "@jupyter-widgets/base",
      "_model_module_version": "1.2.0",
      "_model_name": "LayoutModel",
      "_view_count": null,
      "_view_module": "@jupyter-widgets/base",
      "_view_module_version": "1.2.0",
      "_view_name": "LayoutView",
      "align_content": null,
      "align_items": null,
      "align_self": null,
      "border": null,
      "bottom": null,
      "display": null,
      "flex": null,
      "flex_flow": null,
      "grid_area": null,
      "grid_auto_columns": null,
      "grid_auto_flow": null,
      "grid_auto_rows": null,
      "grid_column": null,
      "grid_gap": null,
      "grid_row": null,
      "grid_template_areas": null,
      "grid_template_columns": null,
      "grid_template_rows": null,
      "height": null,
      "justify_content": null,
      "justify_items": null,
      "left": null,
      "margin": null,
      "max_height": null,
      "max_width": null,
      "min_height": null,
      "min_width": null,
      "object_fit": null,
      "object_position": null,
      "order": null,
      "overflow": null,
      "overflow_x": null,
      "overflow_y": null,
      "padding": null,
      "right": null,
      "top": null,
      "visibility": null,
      "width": null
     }
    },
    "cc771ea227a94bcf9ffda70f5085f90f": {
     "model_module": "@jupyter-widgets/controls",
     "model_name": "ProgressStyleModel",
     "state": {
      "_model_module": "@jupyter-widgets/controls",
      "_model_module_version": "1.5.0",
      "_model_name": "ProgressStyleModel",
      "_view_count": null,
      "_view_module": "@jupyter-widgets/base",
      "_view_module_version": "1.2.0",
      "_view_name": "StyleView",
      "bar_color": null,
      "description_width": ""
     }
    },
    "cf48aa6b98014f97a974ca398287b6a4": {
     "model_module": "@jupyter-widgets/controls",
     "model_name": "HTMLModel",
     "state": {
      "_dom_classes": [],
      "_model_module": "@jupyter-widgets/controls",
      "_model_module_version": "1.5.0",
      "_model_name": "HTMLModel",
      "_view_count": null,
      "_view_module": "@jupyter-widgets/controls",
      "_view_module_version": "1.5.0",
      "_view_name": "HTMLView",
      "description": "",
      "description_tooltip": null,
      "layout": "IPY_MODEL_2e7f8ea4c64d49478573974925975f18",
      "placeholder": "​",
      "style": "IPY_MODEL_26573bd508184e5faac952104b8784b5",
      "value": " 212M/212M [00:04&lt;00:00, 51.5MB/s]"
     }
    },
    "d7887ea69bfe4ffa931d1a730d0e9e02": {
     "model_module": "@jupyter-widgets/controls",
     "model_name": "ProgressStyleModel",
     "state": {
      "_model_module": "@jupyter-widgets/controls",
      "_model_module_version": "1.5.0",
      "_model_name": "ProgressStyleModel",
      "_view_count": null,
      "_view_module": "@jupyter-widgets/base",
      "_view_module_version": "1.2.0",
      "_view_name": "StyleView",
      "bar_color": null,
      "description_width": ""
     }
    },
    "e239d2cbb12346ffb706cacab4dca38a": {
     "model_module": "@jupyter-widgets/base",
     "model_name": "LayoutModel",
     "state": {
      "_model_module": "@jupyter-widgets/base",
      "_model_module_version": "1.2.0",
      "_model_name": "LayoutModel",
      "_view_count": null,
      "_view_module": "@jupyter-widgets/base",
      "_view_module_version": "1.2.0",
      "_view_name": "LayoutView",
      "align_content": null,
      "align_items": null,
      "align_self": null,
      "border": null,
      "bottom": null,
      "display": null,
      "flex": null,
      "flex_flow": null,
      "grid_area": null,
      "grid_auto_columns": null,
      "grid_auto_flow": null,
      "grid_auto_rows": null,
      "grid_column": null,
      "grid_gap": null,
      "grid_row": null,
      "grid_template_areas": null,
      "grid_template_columns": null,
      "grid_template_rows": null,
      "height": null,
      "justify_content": null,
      "justify_items": null,
      "left": null,
      "margin": null,
      "max_height": null,
      "max_width": null,
      "min_height": null,
      "min_width": null,
      "object_fit": null,
      "object_position": null,
      "order": null,
      "overflow": null,
      "overflow_x": null,
      "overflow_y": null,
      "padding": null,
      "right": null,
      "top": null,
      "visibility": null,
      "width": null
     }
    },
    "e3fecdd0618745928f6d778aebc05afa": {
     "model_module": "@jupyter-widgets/base",
     "model_name": "LayoutModel",
     "state": {
      "_model_module": "@jupyter-widgets/base",
      "_model_module_version": "1.2.0",
      "_model_name": "LayoutModel",
      "_view_count": null,
      "_view_module": "@jupyter-widgets/base",
      "_view_module_version": "1.2.0",
      "_view_name": "LayoutView",
      "align_content": null,
      "align_items": null,
      "align_self": null,
      "border": null,
      "bottom": null,
      "display": null,
      "flex": null,
      "flex_flow": null,
      "grid_area": null,
      "grid_auto_columns": null,
      "grid_auto_flow": null,
      "grid_auto_rows": null,
      "grid_column": null,
      "grid_gap": null,
      "grid_row": null,
      "grid_template_areas": null,
      "grid_template_columns": null,
      "grid_template_rows": null,
      "height": null,
      "justify_content": null,
      "justify_items": null,
      "left": null,
      "margin": null,
      "max_height": null,
      "max_width": null,
      "min_height": null,
      "min_width": null,
      "object_fit": null,
      "object_position": null,
      "order": null,
      "overflow": null,
      "overflow_x": null,
      "overflow_y": null,
      "padding": null,
      "right": null,
      "top": null,
      "visibility": null,
      "width": null
     }
    },
    "eff25baa67674ee58e9715e78cd5b7a1": {
     "model_module": "@jupyter-widgets/controls",
     "model_name": "HTMLModel",
     "state": {
      "_dom_classes": [],
      "_model_module": "@jupyter-widgets/controls",
      "_model_module_version": "1.5.0",
      "_model_name": "HTMLModel",
      "_view_count": null,
      "_view_module": "@jupyter-widgets/controls",
      "_view_module_version": "1.5.0",
      "_view_name": "HTMLView",
      "description": "",
      "description_tooltip": null,
      "layout": "IPY_MODEL_1b9fd09c88184811ad52d2b03c60422d",
      "placeholder": "​",
      "style": "IPY_MODEL_31a565eb19ab4091a965a1191a0f9e65",
      "value": "Downloading: 100%"
     }
    },
    "f207a275c2624be9b89d74b2f0fe2738": {
     "model_module": "@jupyter-widgets/controls",
     "model_name": "DescriptionStyleModel",
     "state": {
      "_model_module": "@jupyter-widgets/controls",
      "_model_module_version": "1.5.0",
      "_model_name": "DescriptionStyleModel",
      "_view_count": null,
      "_view_module": "@jupyter-widgets/base",
      "_view_module_version": "1.2.0",
      "_view_name": "StyleView",
      "description_width": ""
     }
    },
    "f917b17d56734fb1b8cb471e51b15328": {
     "model_module": "@jupyter-widgets/controls",
     "model_name": "FloatProgressModel",
     "state": {
      "_dom_classes": [],
      "_model_module": "@jupyter-widgets/controls",
      "_model_module_version": "1.5.0",
      "_model_name": "FloatProgressModel",
      "_view_count": null,
      "_view_module": "@jupyter-widgets/controls",
      "_view_module_version": "1.5.0",
      "_view_name": "ProgressView",
      "bar_style": "success",
      "description": "",
      "description_tooltip": null,
      "layout": "IPY_MODEL_e239d2cbb12346ffb706cacab4dca38a",
      "max": 479555971,
      "min": 0,
      "orientation": "horizontal",
      "style": "IPY_MODEL_32f78deb548546a788a92d9507f6eb72",
      "value": 479555971
     }
    }
   }
  }
 },
 "nbformat": 4,
 "nbformat_minor": 4
}
